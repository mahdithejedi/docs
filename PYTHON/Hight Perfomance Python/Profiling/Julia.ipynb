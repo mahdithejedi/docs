{
 "cells": [
  {
   "cell_type": "code",
   "execution_count": 2,
   "id": "romance-commonwealth",
   "metadata": {},
   "outputs": [
    {
     "name": "stdout",
     "output_type": "stream",
     "text": [
      "Collecting Pillow\n",
      "  Downloading Pillow-8.4.0-cp39-cp39-manylinux_2_17_x86_64.manylinux2014_x86_64.whl (3.1 MB)\n",
      "\u001b[K     |████████████████████████████████| 3.1 MB 280 kB/s eta 0:00:01\n",
      "\u001b[?25hInstalling collected packages: Pillow\n",
      "Successfully installed Pillow-8.4.0\n",
      "Note: you may need to restart the kernel to use updated packages.\n"
     ]
    }
   ],
   "source": [
    "pip install Pillow"
   ]
  },
  {
   "cell_type": "code",
   "execution_count": 2,
   "id": "endless-ocean",
   "metadata": {},
   "outputs": [],
   "source": [
    "from PIL import Image"
   ]
  },
  {
   "cell_type": "code",
   "execution_count": 3,
   "id": "reported-audit",
   "metadata": {},
   "outputs": [],
   "source": [
    "def jullia():\n",
    "    w, h, zoom = 1920,1080,1\n",
    "    bitmap = Image.new(\"RGB\", (w, h), \"white\")\n",
    "    pix = bitmap.load()\n",
    "    cX, cY = -0.7, 0.27015\n",
    "    moveX, moveY = 0.0, 0.0\n",
    "    maxIter = 255\n",
    "\n",
    "    for x in range(w):\n",
    "        for y in range(h):\n",
    "            zx = 1.5*(x - w/2)/(0.5*zoom*w) + moveX\n",
    "            zy = 1.0*(y - h/2)/(0.5*zoom*h) + moveY\n",
    "            i = maxIter\n",
    "            while zx*zx + zy*zy < 4 and i > 1:\n",
    "                tmp = zx*zx - zy*zy + cX\n",
    "                zy,zx = 2.0*zx*zy + cY, tmp\n",
    "                i -= 1\n",
    "\n",
    "\n",
    "            pix[x,y] = (i << 21) + (i << 10) + i*8\n",
    "\n",
    "\n",
    "    bitmap.show()"
   ]
  },
  {
   "cell_type": "code",
   "execution_count": 5,
   "id": "opposed-prior",
   "metadata": {},
   "outputs": [
    {
     "name": "stdout",
     "output_type": "stream",
     "text": [
      "42.4 s ± 884 ms per loop (mean ± std. dev. of 7 runs, 1 loop each)\n"
     ]
    }
   ],
   "source": [
    "%timeit jullia()"
   ]
  }
 ],
 "metadata": {
  "kernelspec": {
   "display_name": "Python 3",
   "language": "python",
   "name": "python3"
  },
  "language_info": {
   "codemirror_mode": {
    "name": "ipython",
    "version": 3
   },
   "file_extension": ".py",
   "mimetype": "text/x-python",
   "name": "python",
   "nbconvert_exporter": "python",
   "pygments_lexer": "ipython3",
   "version": "3.9.2"
  }
 },
 "nbformat": 4,
 "nbformat_minor": 5
}
