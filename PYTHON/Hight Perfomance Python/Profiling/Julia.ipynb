{
 "cells": [
  {
   "cell_type": "code",
   "execution_count": 2,
   "id": "romance-commonwealth",
   "metadata": {},
   "outputs": [
    {
     "name": "stdout",
     "output_type": "stream",
     "text": [
      "Collecting Pillow\n",
      "  Downloading Pillow-8.4.0-cp39-cp39-manylinux_2_17_x86_64.manylinux2014_x86_64.whl (3.1 MB)\n",
      "\u001b[K     |████████████████████████████████| 3.1 MB 280 kB/s eta 0:00:01\n",
      "\u001b[?25hInstalling collected packages: Pillow\n",
      "Successfully installed Pillow-8.4.0\n",
      "Note: you may need to restart the kernel to use updated packages.\n"
     ]
    }
   ],
   "source": [
    "pip install Pillow"
   ]
  },
  {
   "cell_type": "code",
   "execution_count": 4,
   "id": "endless-ocean",
   "metadata": {},
   "outputs": [],
   "source": [
    "from PIL import Image"
   ]
  },
  {
   "cell_type": "code",
   "execution_count": 5,
   "id": "adjusted-endorsement",
   "metadata": {},
   "outputs": [],
   "source": [
    "## example of a simple julia set"
   ]
  },
  {
   "cell_type": "code",
   "execution_count": 8,
   "id": "secret-nitrogen",
   "metadata": {},
   "outputs": [],
   "source": [
    "w, h, zoom = 1920,1080,1"
   ]
  },
  {
   "cell_type": "code",
   "execution_count": 9,
   "id": "entire-sugar",
   "metadata": {},
   "outputs": [],
   "source": [
    "bitmap = Image.new(\"RGB\", (w, h), \"white\")"
   ]
  },
  {
   "cell_type": "code",
   "execution_count": 11,
   "id": "solar-repeat",
   "metadata": {},
   "outputs": [],
   "source": [
    "pix = bitmap.load()"
   ]
  },
  {
   "cell_type": "code",
   "execution_count": 12,
   "id": "american-sweden",
   "metadata": {},
   "outputs": [],
   "source": [
    "cX, cY = -0.7, 0.27015\n",
    "moveX, moveY = 0.0, 0.0\n",
    "maxIter = 255"
   ]
  },
  {
   "cell_type": "code",
   "execution_count": 13,
   "id": "reported-audit",
   "metadata": {},
   "outputs": [],
   "source": [
    "for x in range(w):\n",
    "    for y in range(h):\n",
    "        zx = 1.5*(x - w/2)/(0.5*zoom*w) + moveX\n",
    "        zy = 1.0*(y - h/2)/(0.5*zoom*h) + moveY\n",
    "        i = maxIter\n",
    "        while zx*zx + zy*zy < 4 and i > 1:\n",
    "            tmp = zx*zx - zy*zy + cX\n",
    "            zy,zx = 2.0*zx*zy + cY, tmp\n",
    "            i -= 1\n",
    "\n",
    "\n",
    "        pix[x,y] = (i << 21) + (i << 10) + i*8\n",
    "\n",
    "\n",
    "bitmap.show()"
   ]
  },
  {
   "cell_type": "code",
   "execution_count": 2,
   "id": "racial-current",
   "metadata": {},
   "outputs": [],
   "source": [
    "c = -0.62772-0.42193j\n",
    "z = 0+0j"
   ]
  },
  {
   "cell_type": "code",
   "execution_count": 4,
   "id": "regulation-upper",
   "metadata": {},
   "outputs": [
    {
     "name": "stdout",
     "output_type": "stream",
     "text": [
      "0: z=-0.41171+0.10778j, abs(z)=0.426, c=-0.62772-0.42193j\n",
      "1: z=-0.46983-0.51068j, abs(z)=0.694, c=-0.62772-0.42193j\n",
      "2: z=-0.66777+0.05793j, abs(z)=0.670, c=-0.62772-0.42193j\n",
      "3: z=-0.18516-0.49930j, abs(z)=0.533, c=-0.62772-0.42193j\n",
      "4: z=-0.84274-0.23703j, abs(z)=0.875, c=-0.62772-0.42193j\n",
      "5: z= 0.02630-0.02242j, abs(z)=0.035, c=-0.62772-0.42193j\n",
      "6: z=-0.62753-0.42311j, abs(z)=0.757, c=-0.62772-0.42193j\n",
      "7: z=-0.41295+0.10910j, abs(z)=0.427, c=-0.62772-0.42193j\n",
      "8: z=-0.46910-0.51203j, abs(z)=0.694, c=-0.62772-0.42193j\n"
     ]
    }
   ],
   "source": [
    "for n in range(9):\n",
    "    z = z*z + c\n",
    "    print(f\"{n}: z={z: .5f}, abs(z)={abs(z):0.3f}, c={c: .5f}\")"
   ]
  },
  {
   "cell_type": "code",
   "execution_count": null,
   "id": "lesser-female",
   "metadata": {},
   "outputs": [],
   "source": []
  },
  {
   "cell_type": "code",
   "execution_count": null,
   "id": "opposed-prior",
   "metadata": {},
   "outputs": [],
   "source": []
  }
 ],
 "metadata": {
  "kernelspec": {
   "display_name": "Python 3",
   "language": "python",
   "name": "python3"
  },
  "language_info": {
   "codemirror_mode": {
    "name": "ipython",
    "version": 3
   },
   "file_extension": ".py",
   "mimetype": "text/x-python",
   "name": "python",
   "nbconvert_exporter": "python",
   "pygments_lexer": "ipython3",
   "version": "3.9.2"
  }
 },
 "nbformat": 4,
 "nbformat_minor": 5
}
