{
 "cells": [
  {
   "cell_type": "code",
   "execution_count": 1,
   "id": "generic-syracuse",
   "metadata": {},
   "outputs": [
    {
     "name": "stdout",
     "output_type": "stream",
     "text": [
      "Requirement already satisfied: memory_profiler in /home/warrior-seyedmm021/.local/lib/python3.9/site-packages (0.59.0)\n",
      "Requirement already satisfied: psutil in /usr/lib/python3/dist-packages (from memory_profiler) (5.8.0)\n",
      "Note: you may need to restart the kernel to use updated packages.\n"
     ]
    }
   ],
   "source": [
    "pip install memory_profiler"
   ]
  },
  {
   "cell_type": "code",
   "execution_count": 2,
   "id": "respective-heart",
   "metadata": {},
   "outputs": [],
   "source": [
    "%load_ext memory_profiler"
   ]
  },
  {
   "cell_type": "code",
   "execution_count": 3,
   "id": "allied-linux",
   "metadata": {},
   "outputs": [],
   "source": [
    "import random\n",
    "import string\n",
    "\n",
    "def _generate_random(start=0, end=100000000):\n",
    "    return random.randint(start, end)"
   ]
  },
  {
   "cell_type": "code",
   "execution_count": 4,
   "id": "complete-bride",
   "metadata": {},
   "outputs": [],
   "source": [
    "NamesList = []"
   ]
  },
  {
   "cell_type": "code",
   "execution_count": 5,
   "id": "political-booking",
   "metadata": {},
   "outputs": [
    {
     "name": "stdout",
     "output_type": "stream",
     "text": [
      "222 ms ± 10.8 ms per loop (mean ± std. dev. of 7 runs, 1 loop each)\n"
     ]
    }
   ],
   "source": [
    "%%timeit\n",
    "for i in range(100000):\n",
    "    NamesList.append((\n",
    "        _generate_random(), _generate_random()\n",
    "    ))"
   ]
  },
  {
   "cell_type": "code",
   "execution_count": 6,
   "id": "incorrect-primary",
   "metadata": {},
   "outputs": [],
   "source": [
    "NamesList = []"
   ]
  },
  {
   "cell_type": "code",
   "execution_count": 7,
   "id": "intimate-mailman",
   "metadata": {},
   "outputs": [
    {
     "name": "stdout",
     "output_type": "stream",
     "text": [
      "peak memory: 63.78 MiB, increment: 11.00 MiB\n"
     ]
    }
   ],
   "source": [
    "%%memit\n",
    "for i in range(100000):\n",
    "    NamesList.append((\n",
    "        _generate_random(), _generate_random()\n",
    "    ))"
   ]
  },
  {
   "cell_type": "code",
   "execution_count": 8,
   "id": "knowing-attendance",
   "metadata": {},
   "outputs": [],
   "source": [
    "NamesDict = {}"
   ]
  },
  {
   "cell_type": "code",
   "execution_count": 9,
   "id": "statutory-latter",
   "metadata": {},
   "outputs": [
    {
     "name": "stdout",
     "output_type": "stream",
     "text": [
      "242 ms ± 17.3 ms per loop (mean ± std. dev. of 7 runs, 1 loop each)\n"
     ]
    }
   ],
   "source": [
    "%%timeit\n",
    "for i in range(100000):\n",
    "    NamesDict[_generate_random()] = _generate_random()"
   ]
  },
  {
   "cell_type": "code",
   "execution_count": 10,
   "id": "informal-syndicate",
   "metadata": {},
   "outputs": [],
   "source": [
    "NamesDict = {}"
   ]
  },
  {
   "cell_type": "code",
   "execution_count": 11,
   "id": "collected-inspection",
   "metadata": {},
   "outputs": [
    {
     "name": "stdout",
     "output_type": "stream",
     "text": [
      "peak memory: 79.41 MiB, increment: 5.29 MiB\n"
     ]
    }
   ],
   "source": [
    "%%memit\n",
    "for i in range(100000):\n",
    "    NamesDict[_generate_random()] = _generate_random()"
   ]
  },
  {
   "cell_type": "markdown",
   "id": "rental-consumer",
   "metadata": {},
   "source": [
    "## Sests are unique\n",
    "And this uniqueness is come with no complexity"
   ]
  },
  {
   "cell_type": "code",
   "execution_count": 12,
   "id": "adjusted-musical",
   "metadata": {},
   "outputs": [],
   "source": [
    "def _random_name():\n",
    "    first_name = \"\".join(random.sample(string.ascii_letters, 8))\n",
    "    last_name = \"\".join(random.sample(string.ascii_letters, 8))\n",
    "    return \"{} {}\".format(first_name, last_name)"
   ]
  },
  {
   "cell_type": "code",
   "execution_count": 13,
   "id": "south-bahrain",
   "metadata": {},
   "outputs": [],
   "source": [
    "def set_unique_names(phonebook):\n",
    "    unique_names = set()\n",
    "    for name, phonenumber in phonebook:\n",
    "        first_name, last_name = name.split(\" \", 1)\n",
    "        unique_names.add(first_name)\n",
    "    return len(unique_names)"
   ]
  },
  {
   "cell_type": "code",
   "execution_count": 14,
   "id": "fundamental-requirement",
   "metadata": {},
   "outputs": [],
   "source": [
    "def list_unique_names(phonebook):\n",
    "    unique_names = []\n",
    "    for name, phonenumber in phonebook:\n",
    "        first_name, last_name = name.split(\" \", 1)\n",
    "        for unique in unique_names:\n",
    "            if unique == first_name:\n",
    "                break\n",
    "        else:\n",
    "            unique_names.append(first_name)\n",
    "    return len(unique_names)"
   ]
  },
  {
   "cell_type": "code",
   "execution_count": 15,
   "id": "earlier-cotton",
   "metadata": {},
   "outputs": [],
   "source": [
    "large_phone_number = [\n",
    "          (_random_name(), \"555-555-5555\") for i in range(10000)\n",
    "]"
   ]
  },
  {
   "cell_type": "code",
   "execution_count": 16,
   "id": "approved-gothic",
   "metadata": {},
   "outputs": [
    {
     "name": "stdout",
     "output_type": "stream",
     "text": [
      "2.23 s ± 120 ms per loop (mean ± std. dev. of 7 runs, 1 loop each)\n"
     ]
    }
   ],
   "source": [
    "%%timeit\n",
    "list_unique_names(large_phone_number)"
   ]
  },
  {
   "cell_type": "code",
   "execution_count": 17,
   "id": "covered-discipline",
   "metadata": {},
   "outputs": [
    {
     "name": "stdout",
     "output_type": "stream",
     "text": [
      "3.47 ms ± 226 µs per loop (mean ± std. dev. of 7 runs, 100 loops each)\n"
     ]
    }
   ],
   "source": [
    "%%timeit\n",
    "set_unique_names(large_phone_number)"
   ]
  },
  {
   "cell_type": "code",
   "execution_count": 18,
   "id": "accessible-following",
   "metadata": {},
   "outputs": [
    {
     "name": "stdout",
     "output_type": "stream",
     "text": [
      "peak memory: 81.40 MiB, increment: 0.18 MiB\n"
     ]
    }
   ],
   "source": [
    "%%memit\n",
    "list_unique_names(large_phone_number)"
   ]
  },
  {
   "cell_type": "code",
   "execution_count": 19,
   "id": "dried-backing",
   "metadata": {},
   "outputs": [
    {
     "name": "stdout",
     "output_type": "stream",
     "text": [
      "peak memory: 81.40 MiB, increment: 0.18 MiB\n"
     ]
    }
   ],
   "source": [
    "%%memit\n",
    "set_unique_names(large_phone_number)"
   ]
  },
  {
   "cell_type": "markdown",
   "id": "annoying-phoenix",
   "metadata": {},
   "source": [
    "## HOW SETs and DICTs works\n",
    "they both implement with list of hashes(hashtable)\n",
    "<br />\n",
    "1- Get the hash of object and then use _AND bitwise operator_ to make sure that integer of hash is fit in the hash array <small>( for example the hash is 24678 and the len of hash array is 8 we should make sure that fits in array so we 24678 & ob111)</small>\n",
    "<br />\n",
    "2- Now we have both index and hash of the object, we will ckeck the index of hash to check if it is empty. if it's empty then we insert if it's full we compare the hash of our object and the object which is in the array in this case we should find a new place to put the data!\n",
    "<br />\n",
    "2.5- for more impimization python keep the real object into another seprate array and then keep the index of that array in hash table, this can lead to tracke the order of inserted data\n",
    "<br />\n",
    "3- for prevent hash collision python use something which called **Probe**"
   ]
  },
  {
   "cell_type": "markdown",
   "id": "ceramic-trigger",
   "metadata": {},
   "source": [
    "## What is Probe?"
   ]
  },
  {
   "cell_type": "markdown",
   "id": "expected-variation",
   "metadata": {},
   "source": [
    "You can read more about Hashing [here](../Algorithm\\&DataStructure/Hashing/README.md)"
   ]
  }
 ],
 "metadata": {
  "kernelspec": {
   "display_name": "Python 3",
   "language": "python",
   "name": "python3"
  },
  "language_info": {
   "codemirror_mode": {
    "name": "ipython",
    "version": 3
   },
   "file_extension": ".py",
   "mimetype": "text/x-python",
   "name": "python",
   "nbconvert_exporter": "python",
   "pygments_lexer": "ipython3",
   "version": "3.9.2"
  }
 },
 "nbformat": 4,
 "nbformat_minor": 5
}
