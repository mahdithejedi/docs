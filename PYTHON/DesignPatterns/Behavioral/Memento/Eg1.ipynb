{
 "cells": [
  {
   "cell_type": "code",
   "execution_count": 1,
   "metadata": {},
   "outputs": [],
   "source": [
    "__source__ = \"https://refactoring.guru/design-patterns/memento#pseudocode\""
   ]
  },
  {
   "cell_type": "code",
   "execution_count": 2,
   "metadata": {},
   "outputs": [],
   "source": [
    "from typing import Text"
   ]
  },
  {
   "cell_type": "code",
   "execution_count": 3,
   "metadata": {},
   "outputs": [],
   "source": [
    "class Editor:\n",
    "    def __init__(self) -> None:\n",
    "        self._text: Text = None\n",
    "        self._curX: 'cur' = None\n",
    "        self._curY: 'cur' = None\n",
    "        self._selectionWidth: Text = None\n",
    "\n",
    "    def setText(self, Text: Text) -> None:\n",
    "        self._text = Text\n",
    "    \n",
    "    def setCursor(self, x: 'cur', y: 'cur') -> None:\n",
    "        self._curX  = x\n",
    "        self._curY = y\n",
    "        \n",
    "    def setSelectionWidth(self, width:int) -> None:\n",
    "        self._selectionWidth = width\n",
    "        \n",
    "    def createSnapShot(self: 'snapshot') -> 'snapshot':\n",
    "        return SnapShot(\n",
    "            self, self._text, \n",
    "            self._curX, self._curY, \n",
    "            self._selectionWidth\n",
    "        )"
   ]
  },
  {
   "cell_type": "code",
   "execution_count": 4,
   "metadata": {},
   "outputs": [],
   "source": [
    "class SnapShot:\n",
    "    def __init__(self, editor:Editor, text: Text, x: 'cur', y: 'cur', selection_width:Text) -> None:\n",
    "        self._editor = editor\n",
    "        self._text = text\n",
    "        self._curX = x\n",
    "        self._curY = y\n",
    "        self._selectionWidth = selection_width\n",
    "    def restor(self):\n",
    "        self._editor.setText(self._text)\n",
    "        self._editor.setCursor(self._curX, self._curY)\n",
    "        self._editor.setSelectionWidth(self._selectionWidth)"
   ]
  },
  {
   "cell_type": "code",
   "execution_count": 6,
   "metadata": {},
   "outputs": [],
   "source": [
    "class Command:\n",
    "    def __init__(self, snapShot, editor):\n",
    "        self._backup = SnapShot\n",
    "        self._editor = editor\n",
    "    \n",
    "    def backUp(self):\n",
    "        self._backup = self._editor.createSnapShot()\n",
    "    \n",
    "    def undo(self):\n",
    "        self._backup.restor()"
   ]
  }
 ],
 "metadata": {
  "kernelspec": {
   "display_name": "Python 3",
   "language": "python",
   "name": "python3"
  },
  "language_info": {
   "codemirror_mode": {
    "name": "ipython",
    "version": 3
   },
   "file_extension": ".py",
   "mimetype": "text/x-python",
   "name": "python",
   "nbconvert_exporter": "python",
   "pygments_lexer": "ipython3",
   "version": "3.7.3"
  }
 },
 "nbformat": 4,
 "nbformat_minor": 2
}
