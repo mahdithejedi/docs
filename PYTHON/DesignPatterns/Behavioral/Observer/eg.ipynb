{
 "cells": [
  {
   "cell_type": "code",
   "execution_count": 1,
   "metadata": {},
   "outputs": [],
   "source": [
    "__source__ = \"https://github.com/faif/python-patterns/blob/master/patterns/behavioral/observer.py\""
   ]
  },
  {
   "cell_type": "code",
   "execution_count": 2,
   "metadata": {},
   "outputs": [],
   "source": [
    "from __future__ import annotations\n",
    "from contextlib import suppress # it's like try cache wich if exception happend just ignore it\n",
    "# for more information refer : https://towardsdatascience.com/quick-python-tip-suppress-known-exception-without-try-except-a93ec34d3704\n",
    "from  typing import List, Optional"
   ]
  },
  {
   "cell_type": "code",
   "execution_count": 3,
   "metadata": {},
   "outputs": [],
   "source": [
    "Observer = tuple()"
   ]
  },
  {
   "cell_type": "code",
   "execution_count": 4,
   "metadata": {},
   "outputs": [],
   "source": [
    "class Subject:\n",
    "    def __init__(self) -> None:\n",
    "        self._observers: List[Observer] = []\n",
    "            \n",
    "    def subscribe(self, subscriber):\n",
    "        if not isinstance(subscriber, Observer):\n",
    "            pass \n",
    "            # raise Exception(\"%s should be %s object\"%(subscriber, Observer.__class__.__name__))\n",
    "        self._observers.append(subscriber)\n",
    "        \n",
    "    def desubscribe(self, subscriber):\n",
    "        with suppress(ValueError):\n",
    "            self._observers.remove(subscriber)\n",
    "            \n",
    "    def notify(self):\n",
    "        for observer in self._observers:\n",
    "            observer.notify(self)"
   ]
  },
  {
   "cell_type": "code",
   "execution_count": 5,
   "metadata": {},
   "outputs": [],
   "source": [
    "class Data(Subject):\n",
    "    def __init__(self, name, data):\n",
    "        super().__init__()\n",
    "        self._info = (name, data)\n",
    "   \n",
    "    @property\n",
    "    def info(self):\n",
    "        return self._info\n",
    "\n",
    "    @info.setter\n",
    "    def info(self, infomation):\n",
    "        self._info = infomation[0], infomation[1]\n",
    "        self.notify()"
   ]
  },
  {
   "cell_type": "code",
   "execution_count": 6,
   "metadata": {},
   "outputs": [],
   "source": [
    "class HexViewer:\n",
    "    def notify(self, subject: Data) -> None:\n",
    "        print(f\"HexViewer: Subject {subject._info[0]} has data 0x{subject._info[1]}\")\n"
   ]
  },
  {
   "cell_type": "code",
   "execution_count": 7,
   "metadata": {},
   "outputs": [],
   "source": [
    "class DecimalViewer:\n",
    "    def notify(self, subject: Data) -> None:\n",
    "        print(f\"DecimalViewer: Subject {subject._info[0]} has data 0x{subject._info[1]}\")"
   ]
  },
  {
   "cell_type": "code",
   "execution_count": 8,
   "metadata": {},
   "outputs": [],
   "source": [
    "data1 = Data('Ahmad', 12)\n",
    "data2 = Data('Asqhar', 35)\n",
    "\n",
    "view1 = DecimalViewer()\n",
    "view2 = HexViewer()\n",
    "data1.subscribe(view1)\n",
    "data1.subscribe(view2)\n",
    "data2.subscribe(view2)\n",
    "data2.subscribe(view1)"
   ]
  },
  {
   "cell_type": "code",
   "execution_count": 9,
   "metadata": {},
   "outputs": [
    {
     "name": "stdout",
     "output_type": "stream",
     "text": [
      "DecimalViewer: Subject reza has data 0x85\n",
      "HexViewer: Subject reza has data 0x85\n"
     ]
    }
   ],
   "source": [
    "data1.info = ('reza', 85)"
   ]
  },
  {
   "cell_type": "code",
   "execution_count": null,
   "metadata": {},
   "outputs": [],
   "source": []
  }
 ],
 "metadata": {
  "kernelspec": {
   "display_name": "Python 3",
   "language": "python",
   "name": "python3"
  },
  "language_info": {
   "codemirror_mode": {
    "name": "ipython",
    "version": 3
   },
   "file_extension": ".py",
   "mimetype": "text/x-python",
   "name": "python",
   "nbconvert_exporter": "python",
   "pygments_lexer": "ipython3",
   "version": "3.7.3"
  }
 },
 "nbformat": 4,
 "nbformat_minor": 2
}
