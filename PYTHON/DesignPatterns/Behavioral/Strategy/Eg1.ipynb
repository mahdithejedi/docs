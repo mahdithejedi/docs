{
 "cells": [
  {
   "cell_type": "code",
   "execution_count": 1,
   "metadata": {},
   "outputs": [],
   "source": [
    "__source__ = \"https://www.geeksforgeeks.org/strategy-method-python-design-patterns/\""
   ]
  },
  {
   "cell_type": "code",
   "execution_count": 2,
   "metadata": {},
   "outputs": [],
   "source": [
    "# We have a store which have diffrent discounts"
   ]
  },
  {
   "cell_type": "code",
   "execution_count": 3,
   "metadata": {},
   "outputs": [],
   "source": [
    "class Items:\n",
    "    def __init__(self, price, discount_strategy = None):\n",
    "        self.price = price\n",
    "        self._discount_strategy = discount_strategy\n",
    "        \n",
    "    def calc_price(self, discount_kwargs = {}):\n",
    "        self.price = self._discount_strategy(self.price, **discount_kwargs)\n",
    "        return self.price\n",
    "    \n",
    "    def __repr__(self):\n",
    "        return '{}'.format(self.price)"
   ]
  },
  {
   "cell_type": "code",
   "execution_count": 4,
   "metadata": {},
   "outputs": [],
   "source": [
    "def half_discount(price):\n",
    "    return int(price/2)"
   ]
  },
  {
   "cell_type": "code",
   "execution_count": 5,
   "metadata": {},
   "outputs": [],
   "source": [
    "def holiday_discount(price, discount_per = 0.2):\n",
    "    return int(price * discount_per)"
   ]
  },
  {
   "cell_type": "code",
   "execution_count": 6,
   "metadata": {},
   "outputs": [
    {
     "name": "stdout",
     "output_type": "stream",
     "text": [
      "6\n"
     ]
    }
   ],
   "source": [
    "black_friday = Items(12, half_discount).calc_price()\n",
    "print(black_friday)"
   ]
  },
  {
   "cell_type": "code",
   "execution_count": 7,
   "metadata": {},
   "outputs": [
    {
     "name": "stdout",
     "output_type": "stream",
     "text": [
      "3600\n"
     ]
    }
   ],
   "source": [
    "holiday = Items(12000, holiday_discount).calc_price(\n",
    "    discount_kwargs = {\n",
    "        'discount_per' : 0.3\n",
    "    }\n",
    ")\n",
    "print(holiday)"
   ]
  }
 ],
 "metadata": {
  "kernelspec": {
   "display_name": "Python 3",
   "language": "python",
   "name": "python3"
  },
  "language_info": {
   "codemirror_mode": {
    "name": "ipython",
    "version": 3
   },
   "file_extension": ".py",
   "mimetype": "text/x-python",
   "name": "python",
   "nbconvert_exporter": "python",
   "pygments_lexer": "ipython3",
   "version": "3.7.3"
  }
 },
 "nbformat": 4,
 "nbformat_minor": 2
}
