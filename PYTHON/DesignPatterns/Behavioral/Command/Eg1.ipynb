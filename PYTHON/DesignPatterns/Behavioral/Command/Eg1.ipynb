{
 "cells": [
  {
   "cell_type": "raw",
   "metadata": {},
   "source": [
    "from abc import ABC, abstractclassmethod\n",
    "# from typing import None"
   ]
  },
  {
   "cell_type": "code",
   "execution_count": 13,
   "metadata": {},
   "outputs": [],
   "source": [
    "class Command(ABC):\n",
    "    def __init__(self, app: 'Application', editor: 'Editor'):\n",
    "        self._app = app\n",
    "        self._editor = editor\n",
    "        \n",
    "        self._backup = None\n",
    "\n",
    "    def saveBackup(self):\n",
    "        self._backup = editor.text\n",
    "        \n",
    "    def undo(self):\n",
    "        editor.text = self._backup\n",
    "    \n",
    "    @abstractclassmethod\n",
    "    def execute(self):\n",
    "        NotImplementedError(\n",
    "        \"This is abstract method and should not be executed\"\n",
    "        )"
   ]
  },
  {
   "cell_type": "code",
   "execution_count": 14,
   "metadata": {},
   "outputs": [],
   "source": [
    "class CopyCommand(Command):\n",
    "    def execute(self):\n",
    "        self._app.clipboard = self._editor.getSelection()\n",
    "        return False"
   ]
  },
  {
   "cell_type": "code",
   "execution_count": 15,
   "metadata": {},
   "outputs": [],
   "source": [
    "class CutCommand(Command):\n",
    "    def execute(self):\n",
    "        self.saveBackup()\n",
    "        self._app.clipboard = self._editor.getSelection()\n",
    "        self._editor.deleteSelection()\n",
    "        return True "
   ]
  },
  {
   "cell_type": "code",
   "execution_count": 17,
   "metadata": {},
   "outputs": [],
   "source": [
    "class PasteCommand(Command):\n",
    "    def execute(self):\n",
    "        self.saveBackup()\n",
    "        self._editor.replaceSelection(\n",
    "            self._app.clipboard\n",
    "        )\n",
    "        return True"
   ]
  },
  {
   "cell_type": "code",
   "execution_count": 18,
   "metadata": {},
   "outputs": [],
   "source": [
    "class UndoCommand(Command):\n",
    "    def execute(self):\n",
    "        self.undo()\n",
    "        return True"
   ]
  },
  {
   "cell_type": "code",
   "execution_count": null,
   "metadata": {},
   "outputs": [],
   "source": []
  }
 ],
 "metadata": {
  "kernelspec": {
   "display_name": "Python 3",
   "language": "python",
   "name": "python3"
  },
  "language_info": {
   "codemirror_mode": {
    "name": "ipython",
    "version": 3
   },
   "file_extension": ".py",
   "mimetype": "text/x-python",
   "name": "python",
   "nbconvert_exporter": "python",
   "pygments_lexer": "ipython3",
   "version": "3.7.3"
  }
 },
 "nbformat": 4,
 "nbformat_minor": 2
}
