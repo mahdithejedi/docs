{
 "cells": [
  {
   "cell_type": "code",
   "execution_count": 1,
   "metadata": {},
   "outputs": [],
   "source": [
    "from abc import ABC, abstractclassmethod\n",
    "from typing import Any"
   ]
  },
  {
   "cell_type": "code",
   "execution_count": 2,
   "metadata": {},
   "outputs": [],
   "source": [
    "class Mediator(ABC):\n",
    "    @abstractclassmethod\n",
    "    def notify(self):\n",
    "        NotImplementedError(\"This is abstract method and should not be called dicrectly\")"
   ]
  },
  {
   "cell_type": "code",
   "execution_count": 3,
   "metadata": {},
   "outputs": [],
   "source": [
    "class CourseMediator(Mediator):\n",
    "    def __init__(self):\n",
    "        pass\n",
    "    def notify(self, user, course):\n",
    "        if isinstance(course, list):\n",
    "            for crs in course:\n",
    "                self.__register(user, crs)\n",
    "        else:\n",
    "            self.__register(user,course)\n",
    "    \n",
    "    def __register(self, user, course):\n",
    "        course.register(user)"
   ]
  },
  {
   "cell_type": "code",
   "execution_count": 4,
   "metadata": {},
   "outputs": [],
   "source": [
    "class Course:\n",
    "    @staticmethod\n",
    "    def register(user):\n",
    "        print(f'User {user} has registered')"
   ]
  },
  {
   "cell_type": "code",
   "execution_count": 5,
   "metadata": {},
   "outputs": [],
   "source": [
    "class User:\n",
    "    def __init__(self, name, mediator):\n",
    "        self._name = name\n",
    "        self._mediator = mediator()\n",
    "    def __str__(self):\n",
    "        return self._name\n",
    "    \n",
    "    def app_to_class(self):\n",
    "        self._mediator.notify(self, Course)\n",
    "        "
   ]
  },
  {
   "cell_type": "code",
   "execution_count": 6,
   "metadata": {},
   "outputs": [
    {
     "name": "stdout",
     "output_type": "stream",
     "text": [
      "User Ahmad has registered\n"
     ]
    }
   ],
   "source": [
    "User('Ahmad', CourseMediator).app_to_class()"
   ]
  },
  {
   "cell_type": "code",
   "execution_count": null,
   "metadata": {},
   "outputs": [],
   "source": []
  }
 ],
 "metadata": {
  "kernelspec": {
   "display_name": "Python 3",
   "language": "python",
   "name": "python3"
  },
  "language_info": {
   "codemirror_mode": {
    "name": "ipython",
    "version": 3
   },
   "file_extension": ".py",
   "mimetype": "text/x-python",
   "name": "python",
   "nbconvert_exporter": "python",
   "pygments_lexer": "ipython3",
   "version": "3.7.3"
  }
 },
 "nbformat": 4,
 "nbformat_minor": 2
}
