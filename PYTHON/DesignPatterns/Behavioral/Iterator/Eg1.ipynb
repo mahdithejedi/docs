{
 "cells": [
  {
   "cell_type": "code",
   "execution_count": 1,
   "metadata": {},
   "outputs": [],
   "source": [
    "__source__ = \"https://refactoring.guru/design-patterns/iterator/python/example#example-0--main-py\"\n",
    "__doc__  = \"https://refactoring.guru/design-patterns/iterator\""
   ]
  },
  {
   "cell_type": "code",
   "execution_count": 2,
   "metadata": {},
   "outputs": [],
   "source": [
    "from __future__ import annotations\n",
    "from collections.abc import Iterable, Iterator\n",
    "from typing import Any, List"
   ]
  },
  {
   "cell_type": "code",
   "execution_count": 3,
   "metadata": {},
   "outputs": [],
   "source": [
    "class AlphabeticOrderIterator(Iterator):\n",
    "    \"\"\"\n",
    "        This class implement algorithm for traversing a collection\n",
    "    \"\"\"\n",
    "    _position : int = None\n",
    "    _reverse : bool = False\n",
    "    \n",
    "    def __init__(self, collection: 'WordCollection', reverse : bool = False) -> None:\n",
    "        self._collection = collection\n",
    "        self._reverse = reverse\n",
    "        self._position = -1 if reverse else 0\n",
    "    \n",
    "    def __next__(self):\n",
    "        try:\n",
    "            value = self._collection[self._position]\n",
    "            self._position += -1 if self._reverse else 1\n",
    "        except IndexError:\n",
    "            raise StopIteration()\n",
    "\n",
    "        return value"
   ]
  },
  {
   "cell_type": "code",
   "execution_count": 4,
   "metadata": {},
   "outputs": [],
   "source": [
    "class WordsCollection(Iterable):\n",
    "    \"\"\"\n",
    "        This class should call iterator algorihm from iterator class (AlphabeticOrderIterator)\n",
    "        and return them\n",
    "    \"\"\"\n",
    "    def __init__(self, collection: List[Any] = []) -> None:\n",
    "        self._collection = collection\n",
    "        \n",
    "    def __iter__(self):\n",
    "        return AlphabeticOrderIterator(self._collection)\n",
    "    \n",
    "    def __reverse__(self):\n",
    "        return AlphabeticOrderIterator(self._collection, True)\n",
    "    \n",
    "    def reverse(self):\n",
    "        return self.__reverse__()\n",
    "    def append(self, element:Any):\n",
    "        self._collection.append(element)"
   ]
  },
  {
   "cell_type": "code",
   "execution_count": 5,
   "metadata": {},
   "outputs": [
    {
     "name": "stdout",
     "output_type": "stream",
     "text": [
      "Straight traversal:\n",
      "A\n",
      "B\n",
      "C\n",
      "\n",
      "Reverse traversal:\n",
      "C\n",
      "B\n",
      "A"
     ]
    }
   ],
   "source": [
    "collection = WordsCollection()\n",
    "collection.append('A')\n",
    "collection.append('B')\n",
    "collection.append('C')\n",
    "\n",
    "print(\"Straight traversal:\")\n",
    "print(\"\\n\".join(collection))\n",
    "print(\"\")\n",
    "\n",
    "print(\"Reverse traversal:\")\n",
    "print(\"\\n\".join(collection.reverse()), end=\"\")"
   ]
  },
  {
   "cell_type": "code",
   "execution_count": null,
   "metadata": {},
   "outputs": [],
   "source": []
  },
  {
   "cell_type": "code",
   "execution_count": null,
   "metadata": {},
   "outputs": [],
   "source": []
  }
 ],
 "metadata": {
  "kernelspec": {
   "display_name": "Python 3",
   "language": "python",
   "name": "python3"
  },
  "language_info": {
   "codemirror_mode": {
    "name": "ipython",
    "version": 3
   },
   "file_extension": ".py",
   "mimetype": "text/x-python",
   "name": "python",
   "nbconvert_exporter": "python",
   "pygments_lexer": "ipython3",
   "version": "3.7.3"
  }
 },
 "nbformat": 4,
 "nbformat_minor": 2
}
