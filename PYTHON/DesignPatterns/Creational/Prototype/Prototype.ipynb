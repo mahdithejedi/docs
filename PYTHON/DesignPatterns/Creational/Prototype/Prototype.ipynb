{
 "cells": [
  {
   "cell_type": "markdown",
   "metadata": {},
   "source": [
    "# What is Prototype and when to use it?\n",
    "\n",
    "Prototype is creational design pattern which used to clone a object and prevent it from rebuilt it\n",
    "\n",
    "This used when building of a object is costy and expensive\n",
    "\n",
    "### Resources\n",
    "https://refactoring.guru/design-patterns/prototype/python/example"
   ]
  },
  {
   "cell_type": "code",
   "execution_count": null,
   "metadata": {},
   "outputs": [],
   "source": []
  }
 ],
 "metadata": {
  "kernelspec": {
   "display_name": "Python 3",
   "language": "python",
   "name": "python3"
  },
  "language_info": {
   "codemirror_mode": {
    "name": "ipython",
    "version": 3
   },
   "file_extension": ".py",
   "mimetype": "text/x-python",
   "name": "python",
   "nbconvert_exporter": "python",
   "pygments_lexer": "ipython3",
   "version": "3.7.3"
  }
 },
 "nbformat": 4,
 "nbformat_minor": 2
}
