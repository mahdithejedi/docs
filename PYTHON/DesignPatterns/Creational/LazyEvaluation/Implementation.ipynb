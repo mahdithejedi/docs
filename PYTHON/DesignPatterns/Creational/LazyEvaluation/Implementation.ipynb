{
 "cells": [
  {
   "cell_type": "markdown",
   "metadata": {},
   "source": [
    "# What is lazy evaluation?\n",
    "\n",
    "call when you need :)"
   ]
  },
  {
   "cell_type": "code",
   "execution_count": 1,
   "metadata": {},
   "outputs": [],
   "source": [
    "import functools"
   ]
  },
  {
   "cell_type": "code",
   "execution_count": 2,
   "metadata": {},
   "outputs": [],
   "source": [
    "# This is equall with python cached_property\n",
    "class lazy_property:\n",
    "    def __init__(self, function):\n",
    "        self.function = function\n",
    "        functools.update_wrapper(self, function)\n",
    "        \n",
    "    def __get__(self, obj, type_):\n",
    "        if obj is None:\n",
    "            return self\n",
    "        val = self.function(obj)\n",
    "        obj.__dict__[self.function.__name__] = val\n",
    "        return val"
   ]
  },
  {
   "cell_type": "code",
   "execution_count": 3,
   "metadata": {},
   "outputs": [],
   "source": [
    "def lazy_property2(fn):\n",
    "    attr = '_lazy__' + fn.__name__\n",
    "\n",
    "    @property\n",
    "    def _lazy_property(self):\n",
    "        if not hasattr(self, attr):\n",
    "            setattr(self, attr, fn(self))\n",
    "        return getattr(self, attr)\n",
    "\n",
    "    return _lazy_property"
   ]
  },
  {
   "cell_type": "code",
   "execution_count": 4,
   "metadata": {},
   "outputs": [],
   "source": [
    "class Person:\n",
    "    def __init__(self, name, occupation):\n",
    "        self.name = name\n",
    "        self.occupation = occupation\n",
    "        self.call_count2 = 0\n",
    "\n",
    "    @lazy_property\n",
    "    def relatives(self):\n",
    "        # Get all relatives, let's assume that it costs much time.\n",
    "        relatives = \"Many relatives.\"\n",
    "        return relatives\n",
    "\n",
    "    @lazy_property2\n",
    "    def parents(self):\n",
    "        self.call_count2 += 1\n",
    "        return \"Father and mother\""
   ]
  },
  {
   "cell_type": "code",
   "execution_count": 5,
   "metadata": {},
   "outputs": [
    {
     "name": "stdout",
     "output_type": "stream",
     "text": [
      "**********************************************************************\n",
      "File \"__main__\", line 6, in __main__.main\n",
      "Failed example:\n",
      "    Jhon.occupation\n",
      "Expected:\n",
      "    'Coder'\n",
      "    # Before we access `relatives`\n",
      "Got:\n",
      "    'Coder'\n",
      "**********************************************************************\n",
      "File \"__main__\", line 11, in __main__.main\n",
      "Failed example:\n",
      "    Jhon.relatives\n",
      "Expected:\n",
      "    'Many relatives.'\n",
      "    # After we've accessed `relatives`\n",
      "Got:\n",
      "    'Many relatives.'\n",
      "**********************************************************************\n",
      "1 items had failures:\n",
      "   2 of  10 in __main__.main\n",
      "***Test Failed*** 2 failures.\n"
     ]
    }
   ],
   "source": [
    "def main():\n",
    "    \"\"\"\n",
    "    >>> Jhon = Person('Jhon', 'Coder')\n",
    "    >>> Jhon.name\n",
    "    'Jhon'\n",
    "    >>> Jhon.occupation\n",
    "    'Coder'\n",
    "    # Before we access `relatives`\n",
    "    >>> sorted(Jhon.__dict__.items())\n",
    "    [('call_count2', 0), ('name', 'Jhon'), ('occupation', 'Coder')]\n",
    "    >>> Jhon.relatives\n",
    "    'Many relatives.'\n",
    "    # After we've accessed `relatives`\n",
    "    >>> sorted(Jhon.__dict__.items())\n",
    "    [('call_count2', 0), ..., ('relatives', 'Many relatives.')]\n",
    "    >>> Jhon.parents\n",
    "    'Father and mother'\n",
    "    >>> sorted(Jhon.__dict__.items())\n",
    "    [('_lazy__parents', 'Father and mother'), ('call_count2', 1), ..., ('relatives', 'Many relatives.')]\n",
    "    >>> Jhon.parents\n",
    "    'Father and mother'\n",
    "    >>> Jhon.call_count2\n",
    "    1\n",
    "    \"\"\"\n",
    "\n",
    "\n",
    "if __name__ == \"__main__\":\n",
    "    import doctest\n",
    "    doctest.testmod(optionflags=doctest.ELLIPSIS)"
   ]
  },
  {
   "cell_type": "code",
   "execution_count": null,
   "metadata": {},
   "outputs": [],
   "source": []
  }
 ],
 "metadata": {
  "kernelspec": {
   "display_name": "Python 3",
   "language": "python",
   "name": "python3"
  },
  "language_info": {
   "codemirror_mode": {
    "name": "ipython",
    "version": 3
   },
   "file_extension": ".py",
   "mimetype": "text/x-python",
   "name": "python",
   "nbconvert_exporter": "python",
   "pygments_lexer": "ipython3",
   "version": "3.7.3"
  }
 },
 "nbformat": 4,
 "nbformat_minor": 2
}
