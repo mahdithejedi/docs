{
 "cells": [
  {
   "cell_type": "markdown",
   "metadata": {},
   "source": [
    "# What is lazy evaluation?\n",
    "\n",
    "call when you need :)"
   ]
  },
  {
   "cell_type": "code",
   "execution_count": 1,
   "metadata": {},
   "outputs": [],
   "source": [
    "import functools"
   ]
  },
  {
   "cell_type": "code",
   "execution_count": 3,
   "metadata": {},
   "outputs": [],
   "source": [
    "class lazy_property:\n",
    "    def __init__(self, function):\n",
    "        self.function = function\n",
    "        functools.update_wrapper(self, function)\n",
    "        \n",
    "    def __get__(self, obj, type_):\n",
    "        if obj is None:\n",
    "            return self\n",
    "        val = self.function(obj)\n",
    "        obj.__dict__[self.function.__name__] = val\n",
    "        return val"
   ]
  },
  {
   "cell_type": "code",
   "execution_count": 4,
   "metadata": {},
   "outputs": [],
   "source": [
    "#TODO: work on it\n",
    "Source = \"https://github.com/faif/python-patterns/blob/master/patterns/creational/lazy_evaluation.py\""
   ]
  },
  {
   "cell_type": "code",
   "execution_count": null,
   "metadata": {},
   "outputs": [],
   "source": []
  }
 ],
 "metadata": {
  "kernelspec": {
   "display_name": "Python 3",
   "language": "python",
   "name": "python3"
  },
  "language_info": {
   "codemirror_mode": {
    "name": "ipython",
    "version": 3
   },
   "file_extension": ".py",
   "mimetype": "text/x-python",
   "name": "python",
   "nbconvert_exporter": "python",
   "pygments_lexer": "ipython3",
   "version": "3.7.3"
  }
 },
 "nbformat": 4,
 "nbformat_minor": 2
}
