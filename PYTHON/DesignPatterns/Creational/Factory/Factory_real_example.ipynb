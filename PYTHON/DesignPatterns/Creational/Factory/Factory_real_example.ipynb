{
 "cells": [
  {
   "cell_type": "markdown",
   "metadata": {},
   "source": [
    "## Explenation\n",
    "in this part we will make a paint that draw shapes\n",
    "\n",
    " but the problem is we have many shapes\n",
    " \n",
    " how can we handle all of them?\n",
    " \n",
    " Yes, anstract factory"
   ]
  },
  {
   "cell_type": "code",
   "execution_count": 11,
   "metadata": {},
   "outputs": [],
   "source": [
    "import abc"
   ]
  },
  {
   "cell_type": "code",
   "execution_count": 12,
   "metadata": {},
   "outputs": [],
   "source": [
    "class AbstractShape(metaclass= abc.ABCMeta):\n",
    "    @abc.abstractclassmethod\n",
    "    def calculate_area(self):\n",
    "        pass\n",
    "    def calculate_permiter(self):\n",
    "        pass"
   ]
  },
  {
   "cell_type": "code",
   "execution_count": 13,
   "metadata": {},
   "outputs": [],
   "source": [
    "class Rectangle(AbstractShape):\n",
    "    def __init__(self, height, width):\n",
    "        self.height = height\n",
    "        self.width = width\n",
    "\n",
    "    def calculate_area(self):\n",
    "        return self.height * self.width \n",
    "\n",
    "    def calculate_perimeter(self):\n",
    "        return 2 * (self.height + self.width) \n",
    "\n",
    "class Square(AbstractShape):\n",
    "    def __init__(self, width):\n",
    "        self.width = width\n",
    "\n",
    "    def calculate_area(self):\n",
    "        return self.width ** 2\n",
    "\n",
    "    def calculate_perimeter(self):\n",
    "        return 4 * self.width\n",
    "\n",
    "class Circle(AbstractShape):\n",
    "    def __init__(self, radius):\n",
    "        self.radius = radius\n",
    "\n",
    "    def calculate_area(self):\n",
    "        return 3.14 * self.radius * self.radius\n",
    "\n",
    "    def calculate_perimeter(self):\n",
    "        return 2 * 3.14 * self.radius"
   ]
  },
  {
   "cell_type": "code",
   "execution_count": 14,
   "metadata": {},
   "outputs": [],
   "source": [
    "class DrawShape:\n",
    "    def __init__(self, shape, **kargs):\n",
    "        self.shape = shape(**kargs)\n",
    "    @property\n",
    "    def calculate_area(self):\n",
    "        return self.shape.calculate_area()\n",
    "    @property\n",
    "    def calculate_perimeter(self):\n",
    "        return self.shape.calculate_perimeter()"
   ]
  },
  {
   "cell_type": "code",
   "execution_count": 15,
   "metadata": {},
   "outputs": [],
   "source": [
    "# FOR BETTER REDABLITY WE CAN SPECIFY CLASSES HERE link this\n",
    "\n",
    "RECTANGLE =  Rectangle\n",
    "CIRCLE = Circle\n",
    "SQUARE = Square"
   ]
  },
  {
   "cell_type": "code",
   "execution_count": 16,
   "metadata": {},
   "outputs": [],
   "source": [
    "rect = DrawShape(RECTANGLE, width= 150, height= 260)"
   ]
  },
  {
   "cell_type": "code",
   "execution_count": 17,
   "metadata": {},
   "outputs": [
    {
     "data": {
      "text/plain": [
       "39000"
      ]
     },
     "execution_count": 17,
     "metadata": {},
     "output_type": "execute_result"
    }
   ],
   "source": [
    "rect.calculate_area"
   ]
  },
  {
   "cell_type": "code",
   "execution_count": 18,
   "metadata": {},
   "outputs": [
    {
     "data": {
      "text/plain": [
       "820"
      ]
     },
     "execution_count": 18,
     "metadata": {},
     "output_type": "execute_result"
    }
   ],
   "source": [
    "rect.calculate_perimeter"
   ]
  },
  {
   "cell_type": "code",
   "execution_count": 20,
   "metadata": {},
   "outputs": [],
   "source": [
    "circ = DrawShape(CIRCLE, radius = 120)"
   ]
  },
  {
   "cell_type": "code",
   "execution_count": 21,
   "metadata": {},
   "outputs": [
    {
     "data": {
      "text/plain": [
       "45216.0"
      ]
     },
     "execution_count": 21,
     "metadata": {},
     "output_type": "execute_result"
    }
   ],
   "source": [
    "circ.calculate_area"
   ]
  },
  {
   "cell_type": "code",
   "execution_count": 22,
   "metadata": {},
   "outputs": [
    {
     "data": {
      "text/plain": [
       "753.6"
      ]
     },
     "execution_count": 22,
     "metadata": {},
     "output_type": "execute_result"
    }
   ],
   "source": [
    "circ.calculate_perimeter"
   ]
  },
  {
   "cell_type": "code",
   "execution_count": null,
   "metadata": {},
   "outputs": [],
   "source": []
  }
 ],
 "metadata": {
  "kernelspec": {
   "display_name": "Python 3",
   "language": "python",
   "name": "python3"
  },
  "language_info": {
   "codemirror_mode": {
    "name": "ipython",
    "version": 3
   },
   "file_extension": ".py",
   "mimetype": "text/x-python",
   "name": "python",
   "nbconvert_exporter": "python",
   "pygments_lexer": "ipython3",
   "version": "3.7.3"
  }
 },
 "nbformat": 4,
 "nbformat_minor": 2
}
