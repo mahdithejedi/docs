{
 "cells": [
  {
   "cell_type": "markdown",
   "metadata": {},
   "source": [
    "# What is pool?\n",
    "\n",
    "pool used when we have obj that are expensive and take lots of time to create it\n",
    "\n",
    "we make a pool which we put expensive obj in it and reuse it later...\n",
    "\n"
   ]
  },
  {
   "cell_type": "code",
   "execution_count": 1,
   "metadata": {},
   "outputs": [],
   "source": [
    "from copy import deepcopy\n",
    "from time import sleep\n",
    "import queue"
   ]
  },
  {
   "cell_type": "code",
   "execution_count": 2,
   "metadata": {},
   "outputs": [],
   "source": [
    "queue = queue.Queue()"
   ]
  },
  {
   "cell_type": "code",
   "execution_count": 3,
   "metadata": {},
   "outputs": [],
   "source": [
    "#TODO: add method to increase obj count when again Pool called\n",
    "class Pool:\n",
    "    __obj_instance = False\n",
    "    def __init__(self, queue,initialize = False, count=30):\n",
    "        self._q = queue\n",
    "        self.item = None\n",
    "        self._initiate(initialize, count)\n",
    "\n",
    "    def __enter__(self):\n",
    "        print('entered')\n",
    "        if self.item is None:\n",
    "            self.item = self._q.get()\n",
    "        return self.item\n",
    "\n",
    "    def __exit__(self, Type, value, traceback):\n",
    "        if self.item is not None:\n",
    "            self._q.put(self.item)\n",
    "            self.item = None\n",
    "\n",
    "    def _initiate(self, obj, count):\n",
    "        print('Initiate started')\n",
    "        if not obj and self._q.qsize() > count:\n",
    "            return None\n",
    "        # chech if server load was not hight\n",
    "        print(Pool.__obj_instance)\n",
    "        print('Inde middle of initiate!')\n",
    "        if not Pool.__obj_instance:\n",
    "            Pool.__obj_instance = obj\n",
    "        else:\n",
    "            return None # self._inc_obj(obj, count)\n",
    "        \n",
    "        print(Pool.__obj_instance)\n",
    "        print('Initiate done!')\n",
    "        for _ in range(count):\n",
    "            self._q.put(Pool.__obj_instance())\n",
    "#     def _inc_obj(self, obj, count):\n",
    "#         if self.queue > count"
   ]
  },
  {
   "cell_type": "code",
   "execution_count": 4,
   "metadata": {},
   "outputs": [],
   "source": [
    "class Test():\n",
    "    _counter = 0\n",
    "    def __init__(self):\n",
    "        sleep(2)\n",
    "        self.counter = deepcopy(Test._counter)\n",
    "        Test._counter += 1\n",
    "    def __str__(self):\n",
    "        sleep(2)\n",
    "        return str(self.counter)\n",
    "    def sleep(self, timer=5):\n",
    "        sleep(timer)"
   ]
  },
  {
   "cell_type": "code",
   "execution_count": 5,
   "metadata": {},
   "outputs": [
    {
     "name": "stdout",
     "output_type": "stream",
     "text": [
      "Initiate started\n",
      "False\n",
      "Inde middle of initiate!\n",
      "<class '__main__.Test'>\n",
      "Initiate done!\n",
      "entered\n",
      "0\n"
     ]
    }
   ],
   "source": [
    "with Pool(queue, Test, 30) as pool:\n",
    "    print(pool)"
   ]
  },
  {
   "cell_type": "code",
   "execution_count": 6,
   "metadata": {},
   "outputs": [],
   "source": [
    "t1 = queue.get()"
   ]
  },
  {
   "cell_type": "code",
   "execution_count": 7,
   "metadata": {},
   "outputs": [],
   "source": [
    "t2 = queue.get()"
   ]
  },
  {
   "cell_type": "code",
   "execution_count": 8,
   "metadata": {},
   "outputs": [],
   "source": [
    "t3 = queue.get()"
   ]
  },
  {
   "cell_type": "code",
   "execution_count": 9,
   "metadata": {},
   "outputs": [
    {
     "name": "stdout",
     "output_type": "stream",
     "text": [
      "1\n",
      "2\n",
      "3\n"
     ]
    }
   ],
   "source": [
    "print(t1)\n",
    "print(t2)\n",
    "print(t3)"
   ]
  },
  {
   "cell_type": "markdown",
   "metadata": {},
   "source": [
    "## Thread example\n",
    "for better understading we add thread to see how this pool works"
   ]
  },
  {
   "cell_type": "code",
   "execution_count": 10,
   "metadata": {},
   "outputs": [],
   "source": [
    "# function for threading\n",
    "\n",
    "def pooler(queue, obj, count):\n",
    "    with Pool(queue, obj, count) as pool:\n",
    "        print(pool)"
   ]
  },
  {
   "cell_type": "code",
   "execution_count": 11,
   "metadata": {},
   "outputs": [],
   "source": [
    "from threading import Thread"
   ]
  },
  {
   "cell_type": "code",
   "execution_count": null,
   "metadata": {},
   "outputs": [
    {
     "name": "stdout",
     "output_type": "stream",
     "text": [
      "Initiate started\n",
      "<class '__main__.Test'>\n",
      "Inde middle of initiate!\n",
      "entered\n",
      "4\n",
      "Initiate started\n",
      "<class '__main__.Test'>\n",
      "Inde middle of initiate!\n",
      "entered\n",
      "5\n",
      "Initiate started\n",
      "<class '__main__.Test'>\n",
      "Inde middle of initiate!\n",
      "entered\n",
      "6\n",
      "Initiate started\n",
      "<class '__main__.Test'>\n",
      "Inde middle of initiate!\n",
      "entered\n",
      "7\n",
      "Initiate started\n",
      "<class '__main__.Test'>\n",
      "Inde middle of initiate!\n",
      "entered\n",
      "8\n",
      "Initiate started\n",
      "<class '__main__.Test'>\n",
      "Inde middle of initiate!\n",
      "entered\n",
      "9\n",
      "Initiate started\n",
      "<class '__main__.Test'>\n",
      "Inde middle of initiate!\n",
      "entered\n",
      "10\n",
      "Initiate started\n",
      "<class '__main__.Test'>\n",
      "Inde middle of initiate!\n",
      "entered\n",
      "11\n",
      "Initiate started\n",
      "<class '__main__.Test'>\n",
      "Inde middle of initiate!\n",
      "entered\n",
      "12\n",
      "Initiate started\n",
      "<class '__main__.Test'>\n",
      "Inde middle of initiate!\n",
      "entered\n",
      "13\n",
      "Initiate started\n",
      "<class '__main__.Test'>\n",
      "Inde middle of initiate!\n",
      "entered\n",
      "14\n",
      "Initiate started\n",
      "<class '__main__.Test'>\n",
      "Inde middle of initiate!\n",
      "entered\n",
      "15\n",
      "Initiate started\n",
      "<class '__main__.Test'>\n",
      "Inde middle of initiate!\n",
      "entered\n",
      "16\n",
      "Initiate started\n",
      "<class '__main__.Test'>\n",
      "Inde middle of initiate!\n",
      "entered\n",
      "17\n",
      "Initiate started\n",
      "<class '__main__.Test'>\n",
      "Inde middle of initiate!\n",
      "entered\n",
      "18\n",
      "Initiate started\n",
      "<class '__main__.Test'>\n",
      "Inde middle of initiate!\n",
      "entered\n",
      "19\n",
      "Initiate started\n",
      "<class '__main__.Test'>\n",
      "Inde middle of initiate!\n",
      "entered\n",
      "20\n",
      "Initiate started\n",
      "<class '__main__.Test'>\n",
      "Inde middle of initiate!\n",
      "entered\n",
      "21\n",
      "Initiate started\n",
      "<class '__main__.Test'>\n",
      "Inde middle of initiate!\n",
      "entered\n",
      "22\n",
      "Initiate started\n",
      "<class '__main__.Test'>\n",
      "Inde middle of initiate!\n",
      "entered\n"
     ]
    }
   ],
   "source": [
    "for _ in range(50):\n",
    "    th = Thread(target= pooler, kwargs = {\n",
    "        'queue':queue,\n",
    "        'obj': Test,\n",
    "        'count': 30\n",
    "    })\n",
    "    th.run()"
   ]
  },
  {
   "cell_type": "code",
   "execution_count": null,
   "metadata": {},
   "outputs": [],
   "source": []
  }
 ],
 "metadata": {
  "kernelspec": {
   "display_name": "Python 3",
   "language": "python",
   "name": "python3"
  },
  "language_info": {
   "codemirror_mode": {
    "name": "ipython",
    "version": 3
   },
   "file_extension": ".py",
   "mimetype": "text/x-python",
   "name": "python",
   "nbconvert_exporter": "python",
   "pygments_lexer": "ipython3",
   "version": "3.7.3"
  }
 },
 "nbformat": 4,
 "nbformat_minor": 2
}
