{
 "cells": [
  {
   "cell_type": "markdown",
   "metadata": {},
   "source": [
    "# What is pool?\n",
    "\n",
    "pool used when we have obj that are expensive and take lots of time to create it\n",
    "\n",
    "we make a pool which we put expensive obj in it and reuse it later...\n",
    "\n"
   ]
  },
  {
   "cell_type": "code",
   "execution_count": 1,
   "metadata": {},
   "outputs": [],
   "source": [
    "class Pool:\n",
    "    __obj_instance = False\n",
    "    def __init__(self, queue,initialize = False, count=30):\n",
    "        self._q = queue.Queue()\n",
    "        self.item = None\n",
    "        self._initiate(initialize, count)\n",
    "\n",
    "    def __enter__(self):\n",
    "        if self.item is None:\n",
    "            self.item = self._q.get()\n",
    "        return self.item\n",
    "\n",
    "    def __exit__(self, Type, value, traceback):\n",
    "        if self.item is not None:\n",
    "            self._q.put(self.item)\n",
    "            self.item = None\n",
    "\n",
    "    def _initiate(self, obj, count):\n",
    "        if not obj and self._q.qsize() > count:\n",
    "            return None\n",
    "        # chech if server load was not hight\n",
    "        \n",
    "        if not Pool.__obj_instance:\n",
    "            Pool.__obj_instance = obj\n",
    "            \n",
    "        for _ in range(count):\n",
    "            self._q.put(Pool.__obj_instance())"
   ]
  },
  {
   "cell_type": "code",
   "execution_count": 2,
   "metadata": {},
   "outputs": [],
   "source": [
    "from copy import deepcopy\n",
    "from time import sleep\n",
    "class Test():\n",
    "    _counter = 0\n",
    "    def __init__(self):\n",
    "        self.counter = deepcopy(Test._counter)\n",
    "        Test._counter += 1\n",
    "    def __str__(self):\n",
    "        return str(self.counter)\n",
    "    def sleep(self, timer=5):\n",
    "        sleep(timer)"
   ]
  },
  {
   "cell_type": "code",
   "execution_count": 3,
   "metadata": {},
   "outputs": [],
   "source": [
    "import queue"
   ]
  },
  {
   "cell_type": "code",
   "execution_count": 6,
   "metadata": {},
   "outputs": [
    {
     "name": "stdout",
     "output_type": "stream",
     "text": [
      "30\n"
     ]
    }
   ],
   "source": [
    "with Pool(queue, Test, 30) as pool:\n",
    "    print(pool)"
   ]
  },
  {
   "cell_type": "code",
   "execution_count": 8,
   "metadata": {},
   "outputs": [
    {
     "data": {
      "text/plain": [
       "0"
      ]
     },
     "execution_count": 8,
     "metadata": {},
     "output_type": "execute_result"
    }
   ],
   "source": [
    "queue.Queue().qsize()"
   ]
  },
  {
   "cell_type": "code",
   "execution_count": null,
   "metadata": {},
   "outputs": [],
   "source": []
  },
  {
   "cell_type": "code",
   "execution_count": null,
   "metadata": {},
   "outputs": [],
   "source": []
  }
 ],
 "metadata": {
  "kernelspec": {
   "display_name": "Python 3",
   "language": "python",
   "name": "python3"
  },
  "language_info": {
   "codemirror_mode": {
    "name": "ipython",
    "version": 3
   },
   "file_extension": ".py",
   "mimetype": "text/x-python",
   "name": "python",
   "nbconvert_exporter": "python",
   "pygments_lexer": "ipython3",
   "version": "3.7.3"
  }
 },
 "nbformat": 4,
 "nbformat_minor": 2
}
