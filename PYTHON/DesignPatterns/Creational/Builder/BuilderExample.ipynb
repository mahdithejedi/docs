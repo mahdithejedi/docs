{
 "cells": [
  {
   "cell_type": "markdown",
   "metadata": {},
   "source": [
    "**This is an implementation for [refactering guru](https://refactoring.guru/design-patterns/builder/python/example)**"
   ]
  },
  {
   "cell_type": "code",
   "execution_count": 1,
   "metadata": {},
   "outputs": [],
   "source": [
    "from abc import ABCMeta, abstractclassmethod, abstractmethod, abstractproperty\n",
    "from typing import Any"
   ]
  },
  {
   "cell_type": "code",
   "execution_count": 2,
   "metadata": {},
   "outputs": [],
   "source": [
    "class Builder(metaclass=ABCMeta):\n",
    "    @abstractproperty\n",
    "    def product(self) -> None:\n",
    "            pass\n",
    "    \n",
    "    @abstractclassmethod\n",
    "    def produce_part_a(self) -> None:\n",
    "            pass\n",
    "    \n",
    "    @abstractclassmethod\n",
    "    def produce_part_b(self) -> None:\n",
    "        pass\n",
    "    \n",
    "    @abstractclassmethod\n",
    "    def produce_part_c(self) -> None:\n",
    "        pass\n",
    "    "
   ]
  },
  {
   "cell_type": "code",
   "execution_count": 7,
   "metadata": {},
   "outputs": [],
   "source": [
    "class ConcreteBuilder1(Builder):\n",
    "    def __init__(self) -> None:\n",
    "        self.reset()\n",
    "    \n",
    "    def reset(self) -> None:\n",
    "        self._product = Product1()\n",
    "    \n",
    "    @property\n",
    "    def product(self):\n",
    "        product = self._product\n",
    "        self.reset()\n",
    "        return product\n",
    "    \n",
    "    def produce_part_a(self):\n",
    "        self.product.add(\"Part 1\")\n",
    "        \n",
    "    def produce_part_b(self):\n",
    "        self.product.add(\"Part 2\")\n",
    "    \n",
    "    def produce_part_c(self):\n",
    "        self.product.add(\"Part 3\")"
   ]
  },
  {
   "cell_type": "code",
   "execution_count": 8,
   "metadata": {},
   "outputs": [],
   "source": [
    "class Product1:\n",
    "    def __init__(self) -> None:\n",
    "        self.parts = []\n",
    "    \n",
    "    def add(self, part: Any) ->None:\n",
    "        self.parts.append(part)\n",
    "    \n",
    "    def list_maker(self) -> str:\n",
    "        return f\"Product parts: {', '.join(self.parts)}\""
   ]
  },
  {
   "cell_type": "code",
   "execution_count": 9,
   "metadata": {},
   "outputs": [],
   "source": [
    "class Director:\n",
    "    def __init__(self) -> None:\n",
    "        self._builder = None\n",
    "        \n",
    "    @property\n",
    "    def builder(self) -> Builder:\n",
    "        return self._builder\n",
    "    \n",
    "    @builder.setter\n",
    "    def builder(self, builder:Builder) -> None:\n",
    "        self._builder = builder\n",
    "    \n",
    "    def build_minimal_viable_product(self) -> None:\n",
    "        self.builder.produce_part_a()\n",
    "\n",
    "    def build_full_featured_product(self) -> None:\n",
    "        self.builder.produce_part_a()\n",
    "        self.builder.produce_part_b()\n",
    "        self.builder.produce_part_c()"
   ]
  },
  {
   "cell_type": "code",
   "execution_count": 10,
   "metadata": {},
   "outputs": [
    {
     "ename": "TypeError",
     "evalue": "Can't instantiate abstract class ConcreteBuilder1 with abstract methods product_part_a, product_part_b, product_part_c",
     "output_type": "error",
     "traceback": [
      "\u001b[0;31m---------------------------------------------------------------------------\u001b[0m",
      "\u001b[0;31mTypeError\u001b[0m                                 Traceback (most recent call last)",
      "\u001b[0;32m<ipython-input-10-72c3a36dd3d7>\u001b[0m in \u001b[0;36m<module>\u001b[0;34m()\u001b[0m\n\u001b[1;32m      1\u001b[0m \u001b[0;32mif\u001b[0m \u001b[0m__name__\u001b[0m \u001b[0;34m==\u001b[0m \u001b[0;34m'__main__'\u001b[0m\u001b[0;34m:\u001b[0m\u001b[0;34m\u001b[0m\u001b[0;34m\u001b[0m\u001b[0m\n\u001b[1;32m      2\u001b[0m     \u001b[0mdirector\u001b[0m \u001b[0;34m=\u001b[0m \u001b[0mDirector\u001b[0m\u001b[0;34m(\u001b[0m\u001b[0;34m)\u001b[0m\u001b[0;34m\u001b[0m\u001b[0;34m\u001b[0m\u001b[0m\n\u001b[0;32m----> 3\u001b[0;31m     \u001b[0mbuilder\u001b[0m \u001b[0;34m=\u001b[0m \u001b[0mConcreteBuilder1\u001b[0m\u001b[0;34m(\u001b[0m\u001b[0;34m)\u001b[0m\u001b[0;34m\u001b[0m\u001b[0;34m\u001b[0m\u001b[0m\n\u001b[0m\u001b[1;32m      4\u001b[0m     \u001b[0mdirector\u001b[0m\u001b[0;34m.\u001b[0m\u001b[0mbuilder\u001b[0m \u001b[0;34m=\u001b[0m \u001b[0mbuilder\u001b[0m\u001b[0;34m\u001b[0m\u001b[0;34m\u001b[0m\u001b[0m\n\u001b[1;32m      5\u001b[0m \u001b[0;34m\u001b[0m\u001b[0m\n",
      "\u001b[0;31mTypeError\u001b[0m: Can't instantiate abstract class ConcreteBuilder1 with abstract methods product_part_a, product_part_b, product_part_c"
     ]
    }
   ],
   "source": [
    "if __name__ == '__main__':\n",
    "    director = Director()\n",
    "    builder = ConcreteBuilder1()\n",
    "    director.builder = builder\n",
    "\n",
    "    print(\"Standard basic product: \")\n",
    "    director.build_minimal_viable_product()\n",
    "    builder.product.list_parts()\n",
    "\n",
    "    print(\"\\n\")\n",
    "\n",
    "    print(\"Standard full featured product: \")\n",
    "    director.build_full_featured_product()\n",
    "    builder.product.list_parts()\n",
    "\n",
    "    print(\"\\n\")\n",
    "\n",
    "    # Remember, the Builder pattern can be used without a Director class.\n",
    "    print(\"Custom product: \")\n",
    "    builder.produce_part_a()\n",
    "    builder.produce_part_b()\n",
    "    builder.product.list_parts()\n"
   ]
  },
  {
   "cell_type": "code",
   "execution_count": null,
   "metadata": {},
   "outputs": [],
   "source": []
  },
  {
   "cell_type": "code",
   "execution_count": null,
   "metadata": {},
   "outputs": [],
   "source": []
  }
 ],
 "metadata": {
  "kernelspec": {
   "display_name": "Python 3",
   "language": "python",
   "name": "python3"
  },
  "language_info": {
   "codemirror_mode": {
    "name": "ipython",
    "version": 3
   },
   "file_extension": ".py",
   "mimetype": "text/x-python",
   "name": "python",
   "nbconvert_exporter": "python",
   "pygments_lexer": "ipython3",
   "version": "3.7.3"
  }
 },
 "nbformat": 4,
 "nbformat_minor": 2
}
