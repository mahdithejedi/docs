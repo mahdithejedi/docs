{
 "cells": [
  {
   "cell_type": "markdown",
   "metadata": {},
   "source": [
    "**POINT:every class should return same object of same family**"
   ]
  },
  {
   "cell_type": "code",
   "execution_count": 1,
   "metadata": {},
   "outputs": [],
   "source": [
    "import abc\n",
    "from math import pi"
   ]
  },
  {
   "cell_type": "code",
   "execution_count": 2,
   "metadata": {},
   "outputs": [],
   "source": [
    "class Shape:\n",
    "    pass"
   ]
  },
  {
   "cell_type": "code",
   "execution_count": 3,
   "metadata": {},
   "outputs": [],
   "source": [
    "class TwoDShapes(Shape, metaclass=abc.ABCMeta):\n",
    "    @abc.abstractclassmethod\n",
    "    def area(self):\n",
    "        pass\n",
    "    @abc.abstractclassmethod\n",
    "    def perimiter(self):\n",
    "        pass"
   ]
  },
  {
   "cell_type": "code",
   "execution_count": 4,
   "metadata": {},
   "outputs": [],
   "source": [
    "class Rectange(TwoDShapes):\n",
    "    def __init__(self, width, height):\n",
    "        self.width = width\n",
    "        self.height = height\n",
    "    def area(self):\n",
    "        return self.width * self.height\n",
    "    def perimiter(self):\n",
    "        return 2*(self.width + self.height)"
   ]
  },
  {
   "cell_type": "code",
   "execution_count": 5,
   "metadata": {},
   "outputs": [],
   "source": [
    "class Circle(TwoDShapes):\n",
    "    def __init__(self, diameter):\n",
    "        self.diameter = diamter\n",
    "    def area(self):\n",
    "        return pow(self.diameter * pi, 2)\n",
    "    def perimiter(self):\n",
    "        return 2 * self.diameter * pi"
   ]
  },
  {
   "cell_type": "code",
   "execution_count": 6,
   "metadata": {},
   "outputs": [],
   "source": [
    "class ThreeDShapes(Shape, metaclass=abc.ABCMeta):\n",
    "    @abc.abstractclassmethod\n",
    "    def volume(self):\n",
    "        pass\n",
    "    \n",
    "    @abc.abstractclassmethod\n",
    "    def area(self):\n",
    "        pass"
   ]
  },
  {
   "cell_type": "code",
   "execution_count": 7,
   "metadata": {},
   "outputs": [],
   "source": [
    "class Cube(ThreeDShapes):\n",
    "    def __init__(self, width):\n",
    "        self.width = width\n",
    "        \n",
    "    def volume(self):\n",
    "        return pow(self.width, 3)\n",
    "    def area(self):\n",
    "        return 6 * pow(self.width, 2)"
   ]
  },
  {
   "cell_type": "code",
   "execution_count": 8,
   "metadata": {},
   "outputs": [],
   "source": [
    "class Sphere(ThreeDShapes):\n",
    "    def __init__(self, diameter):\n",
    "        self.diameter = diameter\n",
    "        \n",
    "    def volume(self):\n",
    "        return (3/4)*(pow(pi* self.diameter, 3))\n",
    "    def area(self):\n",
    "        return 4 * pow(self.diameter * pi, 2)"
   ]
  },
  {
   "cell_type": "code",
   "execution_count": 9,
   "metadata": {},
   "outputs": [],
   "source": [
    "class InsideCalculator:\n",
    "    def __init__(self, cls, **kwargs):\n",
    "        self._type = cls.__bases__[0].__name__\n",
    "        self.cls = cls(**kwargs)\n",
    "    @property\n",
    "    def calculate(self):\n",
    "        if self._type == TwoDShapes.__name__:\n",
    "            return self.cls.area()\n",
    "        elif self._type == ThreeDShapes.__name__:\n",
    "            return self.cls.volume()\n",
    "        else:\n",
    "            raise Exception(\n",
    "                'This class is not supported yes,in put class should inheric one of this classes \\n '.join(\n",
    "            cls.__name__ for cls in Shape.__subclasses__()\n",
    "            ))"
   ]
  },
  {
   "cell_type": "code",
   "execution_count": 10,
   "metadata": {},
   "outputs": [
    {
     "data": {
      "text/plain": [
       "180"
      ]
     },
     "execution_count": 10,
     "metadata": {},
     "output_type": "execute_result"
    }
   ],
   "source": [
    "InsideCalculator(Rectange, width=12, height=15).calculate"
   ]
  },
  {
   "cell_type": "code",
   "execution_count": 11,
   "metadata": {},
   "outputs": [
    {
     "data": {
      "text/plain": [
       "104463052.97436883"
      ]
     },
     "execution_count": 11,
     "metadata": {},
     "output_type": "execute_result"
    }
   ],
   "source": [
    "InsideCalculator(Sphere, diameter= 165).calculate"
   ]
  },
  {
   "cell_type": "code",
   "execution_count": null,
   "metadata": {},
   "outputs": [],
   "source": []
  }
 ],
 "metadata": {
  "kernelspec": {
   "display_name": "Python 3",
   "language": "python",
   "name": "python3"
  },
  "language_info": {
   "codemirror_mode": {
    "name": "ipython",
    "version": 3
   },
   "file_extension": ".py",
   "mimetype": "text/x-python",
   "name": "python",
   "nbconvert_exporter": "python",
   "pygments_lexer": "ipython3",
   "version": "3.7.3"
  }
 },
 "nbformat": 4,
 "nbformat_minor": 2
}
