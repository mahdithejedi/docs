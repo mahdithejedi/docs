{
 "cells": [
  {
   "cell_type": "code",
   "execution_count": 1,
   "metadata": {},
   "outputs": [],
   "source": [
    "from abc import ABCMeta, abstractclassmethod"
   ]
  },
  {
   "cell_type": "code",
   "execution_count": 2,
   "metadata": {},
   "outputs": [],
   "source": [
    "class AbstractInterface(metaclass=ABCMeta):\n",
    "    @abstractclassmethod\n",
    "    def ShowSockets(self):\n",
    "        NotImplemented()"
   ]
  },
  {
   "cell_type": "code",
   "execution_count": 3,
   "metadata": {},
   "outputs": [],
   "source": [
    "class Bridge(AbstractInterface):\n",
    "    def __init__(self):\n",
    "        self._implementation = None"
   ]
  },
  {
   "cell_type": "code",
   "execution_count": 4,
   "metadata": {},
   "outputs": [],
   "source": [
    "class FireWall(Bridge):\n",
    "    def __init__(self, implementation: 'ImplementationInterface'):\n",
    "        self._implementation = implementation\n",
    "        \n",
    "    def ShowSockets(self):\n",
    "        print('sockets for firewall app are')\n",
    "        self._implementation.get_sockets()"
   ]
  },
  {
   "cell_type": "code",
   "execution_count": 5,
   "metadata": {},
   "outputs": [],
   "source": [
    "class NetworkManager(Bridge):\n",
    "    def __init__(self, implementation: 'ImplementationInterface'):\n",
    "        self._implementation = implementation\n",
    "        \n",
    "    def ShowSockets(self):\n",
    "        print('sockets for network manager app are')\n",
    "        self._implementation.get_sockets()"
   ]
  },
  {
   "cell_type": "code",
   "execution_count": 6,
   "metadata": {},
   "outputs": [],
   "source": [
    "### Implenetors"
   ]
  },
  {
   "cell_type": "code",
   "execution_count": 7,
   "metadata": {},
   "outputs": [],
   "source": [
    "class ImplementationInterface(metaclass=ABCMeta):\n",
    "    @abstractclassmethod\n",
    "    def get_sockets(self):\n",
    "        raise NotImplemented()"
   ]
  },
  {
   "cell_type": "code",
   "execution_count": 8,
   "metadata": {},
   "outputs": [],
   "source": [
    "class Unix(ImplementationInterface):\n",
    "    def _find_sockets(self):\n",
    "        for num in range(1, 19):\n",
    "            print(\"socket numeber{} found\".format(num))\n",
    "    def get_sockets(self):\n",
    "        self._find_sockets()\n",
    "        print (\"Some Unix sockets\")\n",
    "        return \"Unix\""
   ]
  },
  {
   "cell_type": "code",
   "execution_count": 9,
   "metadata": {},
   "outputs": [],
   "source": [
    "class Linux(Unix):\n",
    "    def get_sockets(self):\n",
    "        self._find_sockets()\n",
    "        print(\"Some linux sockets\")\n",
    "        return \"Linux\""
   ]
  },
  {
   "cell_type": "code",
   "execution_count": 10,
   "metadata": {},
   "outputs": [],
   "source": [
    "# You can have debian linux which inherit Linux and Ubuntu which inheric debian\n",
    "# Inheritance for Ubuntu\n",
    "# Ubuntu 18.1 -> Ubuntu 18 -> Ubuntu -> Debian -> Linux -> Unix -> ImplementationInterface"
   ]
  },
  {
   "cell_type": "code",
   "execution_count": 11,
   "metadata": {},
   "outputs": [],
   "source": [
    "class Windows(ImplementationInterface):\n",
    "    def get_sockets(self):\n",
    "        print(\"Some windows socket\")\n",
    "        return \"windows\""
   ]
  },
  {
   "cell_type": "code",
   "execution_count": 12,
   "metadata": {},
   "outputs": [],
   "source": [
    "def os():\n",
    "    state = 'run'\n",
    "    unix = Unix()\n",
    "    windows = Windows()\n",
    "    \n",
    "    unix_run_fire_wall = FireWall(unix).ShowSockets()\n",
    "    unix_run_network_manager = NetworkManager(unix).ShowSockets()\n",
    "    # ----\n",
    "    win_run_fire_wall = FireWall(windows).ShowSockets()\n",
    "    unix_run_network_manager = NetworkManager(windows).ShowSockets()"
   ]
  },
  {
   "cell_type": "code",
   "execution_count": 13,
   "metadata": {},
   "outputs": [
    {
     "name": "stdout",
     "output_type": "stream",
     "text": [
      "sockets for firewall app are\n",
      "socket numeber1 found\n",
      "socket numeber2 found\n",
      "socket numeber3 found\n",
      "socket numeber4 found\n",
      "socket numeber5 found\n",
      "socket numeber6 found\n",
      "socket numeber7 found\n",
      "socket numeber8 found\n",
      "socket numeber9 found\n",
      "socket numeber10 found\n",
      "socket numeber11 found\n",
      "socket numeber12 found\n",
      "socket numeber13 found\n",
      "socket numeber14 found\n",
      "socket numeber15 found\n",
      "socket numeber16 found\n",
      "socket numeber17 found\n",
      "socket numeber18 found\n",
      "Some Unix sockets\n",
      "sockets for network manager app are\n",
      "socket numeber1 found\n",
      "socket numeber2 found\n",
      "socket numeber3 found\n",
      "socket numeber4 found\n",
      "socket numeber5 found\n",
      "socket numeber6 found\n",
      "socket numeber7 found\n",
      "socket numeber8 found\n",
      "socket numeber9 found\n",
      "socket numeber10 found\n",
      "socket numeber11 found\n",
      "socket numeber12 found\n",
      "socket numeber13 found\n",
      "socket numeber14 found\n",
      "socket numeber15 found\n",
      "socket numeber16 found\n",
      "socket numeber17 found\n",
      "socket numeber18 found\n",
      "Some Unix sockets\n",
      "sockets for firewall app are\n",
      "Some windows socket\n",
      "sockets for network manager app are\n",
      "Some windows socket\n"
     ]
    }
   ],
   "source": [
    "if __name__ == '__main__':\n",
    "    os()"
   ]
  },
  {
   "cell_type": "code",
   "execution_count": null,
   "metadata": {},
   "outputs": [],
   "source": []
  }
 ],
 "metadata": {
  "kernelspec": {
   "display_name": "Python 3",
   "language": "python",
   "name": "python3"
  },
  "language_info": {
   "codemirror_mode": {
    "name": "ipython",
    "version": 3
   },
   "file_extension": ".py",
   "mimetype": "text/x-python",
   "name": "python",
   "nbconvert_exporter": "python",
   "pygments_lexer": "ipython3",
   "version": "3.7.3"
  }
 },
 "nbformat": 4,
 "nbformat_minor": 2
}
