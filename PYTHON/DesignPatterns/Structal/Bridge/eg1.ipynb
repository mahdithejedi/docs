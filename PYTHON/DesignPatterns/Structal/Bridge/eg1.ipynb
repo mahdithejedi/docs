{
 "cells": [
  {
   "cell_type": "code",
   "execution_count": 1,
   "metadata": {},
   "outputs": [
    {
     "name": "stdout",
     "output_type": "stream",
     "text": [
      "API1.circle at 1.000000:2.000000 radius 7.500000\n",
      "API2.circle at 5.000000:7.000000 radius 27.500000\n"
     ]
    }
   ],
   "source": [
    "class DrawingAPI:\n",
    "    def drawCircle(x, y, radius):\n",
    "        pass\n",
    "\n",
    "\n",
    "# ConcreteImplementor 1/2\n",
    "class DrawingAPI1(DrawingAPI):\n",
    "    def drawCircle(self, x, y, radius):\n",
    "        print(\"API1.circle at %f:%f radius %f\" % (x, y, radius))\n",
    "\n",
    "\n",
    "# ConcreteImplementor 2/2\n",
    "class DrawingAPI2(DrawingAPI):\n",
    "    def drawCircle(self, x, y, radius):\n",
    "        print(\"API2.circle at %f:%f radius %f\" % (x, y, radius))\n",
    "\n",
    "\n",
    "# Abstraction\n",
    "class Shape:\n",
    "    # low-level\n",
    "    def draw(self):\n",
    "        pass\n",
    "\n",
    "    # high-level\n",
    "    def resizeByPercentage(self, pct):\n",
    "        pass\n",
    "\n",
    "\n",
    "# Refined Abstraction\n",
    "class CircleShape(Shape):\n",
    "    def __init__(self, x, y, radius, drawingAPI):\n",
    "        self.__x = x\n",
    "        self.__y = y\n",
    "        self.__radius = radius\n",
    "        self.__drawingAPI = drawingAPI\n",
    "\n",
    "    # low-level i.e. Implementation specific\n",
    "    def draw(self):\n",
    "        self.__drawingAPI.drawCircle(self.__x, self.__y, self.__radius)\n",
    "\n",
    "    # high-level i.e. Abstraction specific\n",
    "    def resizeByPercentage(self, pct):\n",
    "        self.__radius *= pct\n",
    "\n",
    "\n",
    "def main():\n",
    "    shapes = [\n",
    "        CircleShape(1, 2, 3, DrawingAPI1()),\n",
    "        CircleShape(5, 7, 11, DrawingAPI2())\n",
    "    ]\n",
    "\n",
    "    for shape in shapes:\n",
    "        shape.resizeByPercentage(2.5)\n",
    "        shape.draw()\n",
    "\n",
    "\n",
    "if __name__ == \"__main__\":\n",
    "    main()"
   ]
  },
  {
   "cell_type": "code",
   "execution_count": null,
   "metadata": {},
   "outputs": [],
   "source": []
  }
 ],
 "metadata": {
  "kernelspec": {
   "display_name": "Python 3",
   "language": "python",
   "name": "python3"
  },
  "language_info": {
   "codemirror_mode": {
    "name": "ipython",
    "version": 2
   },
   "file_extension": ".py",
   "mimetype": "text/x-python",
   "name": "python",
   "nbconvert_exporter": "python",
   "pygments_lexer": "ipython2",
   "version": "2.7.16"
  }
 },
 "nbformat": 4,
 "nbformat_minor": 2
}
