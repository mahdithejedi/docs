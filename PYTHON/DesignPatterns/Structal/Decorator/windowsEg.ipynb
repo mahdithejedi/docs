{
 "cells": [
  {
   "cell_type": "code",
   "execution_count": 1,
   "metadata": {},
   "outputs": [],
   "source": [
    "from abc import ABC, abstractmethod"
   ]
  },
  {
   "cell_type": "code",
   "execution_count": 2,
   "metadata": {},
   "outputs": [],
   "source": [
    "## We should have two seprate class\n",
    "## one for windows itself and one for it's scorling and other features\n",
    "## But this two classes need a same Interface\n",
    "class WindowInterface(ABC):\n",
    "    @abstractmethod\n",
    "    def build(self):\n",
    "        raise NotImplementedError()"
   ]
  },
  {
   "cell_type": "code",
   "execution_count": 3,
   "metadata": {},
   "outputs": [],
   "source": [
    "class Window(WindowInterface):\n",
    "    \"\"\"\n",
    "        The Window class\n",
    "    \"\"\"\n",
    "    def build(self):\n",
    "        print(\"this class build successfully\")"
   ]
  },
  {
   "cell_type": "code",
   "execution_count": 4,
   "metadata": {},
   "outputs": [],
   "source": [
    "class AbstractWindowDecorator(WindowInterface, ABC):\n",
    "    \"\"\"\n",
    "    Maintain a reference to a Window object and define an interface\n",
    "    that conforms to Window's interface.\n",
    "    \"\"\"\n",
    "    def __init__(self, window):\n",
    "            self._window = window\n",
    "    @abstractmethod\n",
    "    def build(self):\n",
    "        raise NotImplementedError()"
   ]
  },
  {
   "cell_type": "code",
   "execution_count": 5,
   "metadata": {},
   "outputs": [],
   "source": [
    "class BorderDecorator(AbstractWindowDecorator):\n",
    "    def add_border(self):\n",
    "        print('Border added')\n",
    "    def build(self):\n",
    "        self.add_border()\n",
    "        self._window.build()"
   ]
  },
  {
   "cell_type": "code",
   "execution_count": 6,
   "metadata": {},
   "outputs": [],
   "source": [
    "class VerticalSBDecorator(AbstractWindowDecorator):\n",
    "    def add_vertical_scroll_bar(self):\n",
    "        print(\"Adding vertical scroll bar\")\n",
    "\n",
    "    def build(self):\n",
    "        self.add_vertical_scroll_bar()\n",
    "        self._window.build()"
   ]
  },
  {
   "cell_type": "code",
   "execution_count": 7,
   "metadata": {},
   "outputs": [],
   "source": [
    "class HorizontalSBDecorator(AbstractWindowDecorator):\n",
    "    def add_horizontal_scroll_bar(self):\n",
    "        print(\"Adding horizontal scroll bar\")\n",
    "\n",
    "    def build(self):\n",
    "        self.add_horizontal_scroll_bar()\n",
    "        self._window.build()"
   ]
  }
 ],
 "metadata": {
  "kernelspec": {
   "display_name": "Python 3",
   "language": "python",
   "name": "python3"
  },
  "language_info": {
   "codemirror_mode": {
    "name": "ipython",
    "version": 3
   },
   "file_extension": ".py",
   "mimetype": "text/x-python",
   "name": "python",
   "nbconvert_exporter": "python",
   "pygments_lexer": "ipython3",
   "version": "3.7.3"
  }
 },
 "nbformat": 4,
 "nbformat_minor": 2
}
