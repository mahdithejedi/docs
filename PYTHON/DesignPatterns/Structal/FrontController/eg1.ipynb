{
 "cells": [
  {
   "cell_type": "code",
   "execution_count": 1,
   "metadata": {},
   "outputs": [],
   "source": [
    "__source__ = \"https://github.com/faif/python-patterns/blob/master/patterns/structural/front_controller.py\""
   ]
  },
  {
   "cell_type": "code",
   "execution_count": 2,
   "metadata": {},
   "outputs": [],
   "source": [
    "from abc import ABC, abstractclassmethod"
   ]
  },
  {
   "cell_type": "code",
   "execution_count": 3,
   "metadata": {},
   "outputs": [],
   "source": [
    "class View(ABC):\n",
    "    @abstractclassmethod\n",
    "    def show_index_page(self):\n",
    "        NotImplementedError(\"This is abstract method of {} class and should not be Implemented\".format(\n",
    "            self.__class__.__name__\n",
    "        ))"
   ]
  },
  {
   "cell_type": "code",
   "execution_count": 4,
   "metadata": {},
   "outputs": [],
   "source": [
    "class MobileView(View):\n",
    "    def show_index_page(self):\n",
    "        print(\"This is mobile view!\")"
   ]
  },
  {
   "cell_type": "code",
   "execution_count": 5,
   "metadata": {},
   "outputs": [],
   "source": [
    "class TabletView(View):\n",
    "    def show_index_page(self):\n",
    "        print(\"This is Tablet View\")"
   ]
  },
  {
   "cell_type": "code",
   "execution_count": 12,
   "metadata": {},
   "outputs": [],
   "source": [
    "class Dispatcher:\n",
    "    def __init__(self, mobile = MobileView, tablet = TabletView):\n",
    "        self._mobile = mobile()\n",
    "        self._tablet = tablet()\n",
    "    def dispatch(self, request):\n",
    "        if request.type == Request.mobile_type:\n",
    "            self._mobile.show_index_page()\n",
    "        elif request.type == Request.tablet_type:\n",
    "            self._tablet.show_index_page()\n",
    "        else:\n",
    "            print(\"Request is invalid\")"
   ]
  },
  {
   "cell_type": "code",
   "execution_count": 13,
   "metadata": {},
   "outputs": [],
   "source": [
    "class RequestController:\n",
    "    \"\"\" front controller \"\"\"\n",
    "\n",
    "    def __init__(self):\n",
    "        self.dispatcher = Dispatcher()\n",
    "\n",
    "    def dispatch_request(self, request):\n",
    "        if isinstance(request, Request):\n",
    "            self.dispatcher.dispatch(request)\n",
    "        else:\n",
    "            print(\"request must be a Request object\")"
   ]
  },
  {
   "cell_type": "code",
   "execution_count": 14,
   "metadata": {},
   "outputs": [],
   "source": [
    "class Request:\n",
    "    \"\"\" request \"\"\"\n",
    "\n",
    "    mobile_type = \"mobile\"\n",
    "    tablet_type = \"tablet\"\n",
    "\n",
    "    def __init__(self, request):\n",
    "        self.type = None\n",
    "        request = request.lower()\n",
    "        if request == self.mobile_type:\n",
    "            self.type = self.mobile_type\n",
    "        elif request == self.tablet_type:\n",
    "            self.type = self.tablet_type\n"
   ]
  },
  {
   "cell_type": "code",
   "execution_count": 15,
   "metadata": {},
   "outputs": [],
   "source": [
    "front_controller = RequestController()"
   ]
  },
  {
   "cell_type": "code",
   "execution_count": 16,
   "metadata": {},
   "outputs": [
    {
     "name": "stdout",
     "output_type": "stream",
     "text": [
      "This is mobile view!\n"
     ]
    }
   ],
   "source": [
    "front_controller.dispatch_request(Request('mobile'))"
   ]
  },
  {
   "cell_type": "code",
   "execution_count": 17,
   "metadata": {},
   "outputs": [
    {
     "name": "stdout",
     "output_type": "stream",
     "text": [
      "Request is invalid\n"
     ]
    }
   ],
   "source": [
    "front_controller.dispatch_request(Request('desktop'))"
   ]
  },
  {
   "cell_type": "code",
   "execution_count": 18,
   "metadata": {},
   "outputs": [
    {
     "name": "stdout",
     "output_type": "stream",
     "text": [
      "request must be a Request object\n"
     ]
    }
   ],
   "source": [
    "front_controller.dispatch_request('mobile')"
   ]
  }
 ],
 "metadata": {
  "kernelspec": {
   "display_name": "Python 3",
   "language": "python",
   "name": "python3"
  },
  "language_info": {
   "codemirror_mode": {
    "name": "ipython",
    "version": 3
   },
   "file_extension": ".py",
   "mimetype": "text/x-python",
   "name": "python",
   "nbconvert_exporter": "python",
   "pygments_lexer": "ipython3",
   "version": "3.7.3"
  }
 },
 "nbformat": 4,
 "nbformat_minor": 2
}
