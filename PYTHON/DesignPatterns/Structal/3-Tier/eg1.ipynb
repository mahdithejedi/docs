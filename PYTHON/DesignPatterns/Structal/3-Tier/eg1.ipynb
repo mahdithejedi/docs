{
 "cells": [
  {
   "cell_type": "code",
   "execution_count": 1,
   "metadata": {},
   "outputs": [],
   "source": [
    "__source__ = \"https://github.com/faif/python-patterns/blob/master/patterns/structural/3-tier.py\""
   ]
  },
  {
   "cell_type": "code",
   "execution_count": 2,
   "metadata": {},
   "outputs": [],
   "source": [
    "from typing import Dict, KeysView, Optional, Type, TypeVar, Union"
   ]
  },
  {
   "cell_type": "code",
   "execution_count": 3,
   "metadata": {},
   "outputs": [],
   "source": [
    "class Data:\n",
    "    products = {\n",
    "        \"milk\": {\"price\": 1.50, \"quantity\": 10},\n",
    "        \"eggs\": {\"price\": 0.20, \"quantity\": 100},\n",
    "        \"cheese\": {\"price\": 2.00, \"quantity\": 10},\n",
    "    }\n",
    "\n",
    "    def __get__(self, obj, klas):\n",
    "\n",
    "        print(\"(Fetching from Data Store)\")\n",
    "        return {\"products\": self.products}"
   ]
  },
  {
   "cell_type": "code",
   "execution_count": 21,
   "metadata": {},
   "outputs": [],
   "source": [
    "class BusinessLogic:\n",
    "#     def __init__(self, data = Data):\n",
    "#         self.data = data()\n",
    "        \n",
    "    data = Data()\n",
    "    \n",
    "    def product_list(self) -> KeysView[str]:\n",
    "        print('data is \\n* self.data *\\n')\n",
    "        return self.data[\"products\"].keys()\n",
    "    \n",
    "    def product_information(\n",
    "        self, product: str\n",
    "    ) -> Optional[Dict[str, Union[int, float]]]:\n",
    "        return self.data[\"products\"].get(product, None)"
   ]
  },
  {
   "cell_type": "code",
   "execution_count": 22,
   "metadata": {},
   "outputs": [],
   "source": [
    "class Ui:\n",
    "    \"\"\" UI interaction class \"\"\"\n",
    "\n",
    "    def __init__(self, business_logic = BusinessLogic) -> None:\n",
    "        self.business_logic = business_logic()\n",
    "\n",
    "    def get_product_list(self) -> None:\n",
    "        print(\"PRODUCT LIST:\")\n",
    "        for product in self.business_logic.product_list():\n",
    "            print(product)\n",
    "        print(\"\")\n",
    "\n",
    "    def get_product_information(self, product: str) -> None:\n",
    "        product_info = self.business_logic.product_information(product)\n",
    "        if product_info:\n",
    "            print(\"PRODUCT INFORMATION:\")\n",
    "            print(\n",
    "                f\"Name: {product.title()}, \"\n",
    "                + f\"Price: {product_info.get('price', 0):.2f}, \"\n",
    "                + f\"Quantity: {product_info.get('quantity', 0):}\"\n",
    "            )\n",
    "        else:\n",
    "            print(f\"That product '{product}' does not exist in the records\")"
   ]
  },
  {
   "cell_type": "code",
   "execution_count": 23,
   "metadata": {},
   "outputs": [],
   "source": [
    "ui = Ui()"
   ]
  },
  {
   "cell_type": "code",
   "execution_count": 25,
   "metadata": {},
   "outputs": [
    {
     "name": "stdout",
     "output_type": "stream",
     "text": [
      "PRODUCT LIST:\n",
      "data is \n",
      "* self.data *\n",
      "\n",
      "(Fetching from Data Store)\n",
      "milk\n",
      "eggs\n",
      "cheese\n",
      "\n"
     ]
    }
   ],
   "source": [
    "ui.get_product_list()"
   ]
  },
  {
   "cell_type": "code",
   "execution_count": 26,
   "metadata": {},
   "outputs": [
    {
     "name": "stdout",
     "output_type": "stream",
     "text": [
      "(Fetching from Data Store)\n",
      "PRODUCT INFORMATION:\n",
      "Name: Milk, Price: 1.50, Quantity: 10\n"
     ]
    }
   ],
   "source": [
    "ui.get_product_information(\"milk\")"
   ]
  },
  {
   "cell_type": "code",
   "execution_count": null,
   "metadata": {},
   "outputs": [],
   "source": []
  }
 ],
 "metadata": {
  "kernelspec": {
   "display_name": "Python 3",
   "language": "python",
   "name": "python3"
  },
  "language_info": {
   "codemirror_mode": {
    "name": "ipython",
    "version": 3
   },
   "file_extension": ".py",
   "mimetype": "text/x-python",
   "name": "python",
   "nbconvert_exporter": "python",
   "pygments_lexer": "ipython3",
   "version": "3.7.3"
  }
 },
 "nbformat": 4,
 "nbformat_minor": 2
}
