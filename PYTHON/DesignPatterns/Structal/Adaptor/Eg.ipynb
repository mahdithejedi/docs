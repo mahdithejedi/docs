{
 "cells": [
  {
   "cell_type": "code",
   "execution_count": 1,
   "metadata": {},
   "outputs": [],
   "source": [
    "__source__ = \"https://github.com/faif/python-patterns/blob/master/patterns/structural/adapter.py\"\n",
    "__comments__= \"Comments are new feature wich is under development\""
   ]
  },
  {
   "cell_type": "code",
   "execution_count": 2,
   "metadata": {},
   "outputs": [],
   "source": [
    "from typing import Callable, TypeVar\n",
    "T = TypeVar(\"T\")"
   ]
  },
  {
   "cell_type": "code",
   "execution_count": 3,
   "metadata": {},
   "outputs": [],
   "source": [
    "class Dog:\n",
    "    def __init__(self):\n",
    "        self.name = \"Dog\"\n",
    "    def bark(self):\n",
    "        return \"woof!\""
   ]
  },
  {
   "cell_type": "code",
   "execution_count": 4,
   "metadata": {},
   "outputs": [],
   "source": [
    "class Cat:\n",
    "    def __init__(self):\n",
    "        self.name = \"Cat\"\n",
    "    def meow(self):\n",
    "        return \"meow!\""
   ]
  },
  {
   "cell_type": "code",
   "execution_count": 5,
   "metadata": {},
   "outputs": [],
   "source": [
    "class Human:\n",
    "    def __init__(self):\n",
    "        self.name = \"Human\"\n",
    "    def speak(self, msg):\n",
    "        return \"I can say :%s\"%msg"
   ]
  },
  {
   "cell_type": "code",
   "execution_count": 6,
   "metadata": {},
   "outputs": [],
   "source": [
    "class Car:\n",
    "    def __init__(self):\n",
    "        self.name = \"Car\"\n",
    "    def horn(self):\n",
    "        return \"boob boob\""
   ]
  },
  {
   "cell_type": "code",
   "execution_count": 7,
   "metadata": {},
   "outputs": [],
   "source": [
    "class Adaptor:\n",
    "    def __init__(self, obj:T, **adapted_methods:Callable):\n",
    "        self._obj = obj\n",
    "        self.__dict__.update(adapted_methods)\n",
    "        \n",
    "    def __getattr__(self, attr, setter=False):\n",
    "        \"\"\"\n",
    "        __getattr__ called when an attribute not found in class\n",
    "        \n",
    "        All non-adapted calls are passed to the object\n",
    "        \"\"\"\n",
    "#         if not self._obj:\n",
    "#             raise AttributeError('You should implement obj class.')\n",
    "        \n",
    "        return getattr(self._obj, attr)\n",
    "    \n",
    "#     def obj(self, value):\n",
    "#         self._obj = value\n",
    "#     obj = property(None, obj)  \n",
    "    \n",
    "    def original_dict(self):\n",
    "        return self.obj.__dict__\n",
    "    \n",
    "#     def make_noise(self):\n",
    "#         noise = self.__dict__.get(self._obj, None)\n",
    "#         if noise:\n",
    "#             return noise()\n",
    "#         return None\n",
    "#     @classmethod\n",
    "#     def multi_initialize(cls, obj=None, **dic):\n",
    "#         adp = cls(obj)\n",
    "#         type(dic)\n",
    "#         print(dic)\n",
    "#         for key, value in dic:\n",
    "#             adp.__dict__[key] = value\n",
    "#         return adp"
   ]
  },
  {
   "cell_type": "code",
   "execution_count": 8,
   "metadata": {},
   "outputs": [],
   "source": [
    "dog = Dog()\n",
    "dog_adp = Adaptor(dog, adapted_methods= dog.bark)"
   ]
  },
  {
   "cell_type": "code",
   "execution_count": 9,
   "metadata": {},
   "outputs": [
    {
     "data": {
      "text/plain": [
       "'woof!'"
      ]
     },
     "execution_count": 9,
     "metadata": {},
     "output_type": "execute_result"
    }
   ],
   "source": [
    "dog_adp.adapted_methods()"
   ]
  },
  {
   "cell_type": "code",
   "execution_count": 10,
   "metadata": {},
   "outputs": [],
   "source": [
    "# Main_adptor = Adaptor.multi_initialize(None,\n",
    "#     ** {\n",
    "#         Dog(): Dog().bark,\n",
    "#         Cat(): Cat().meow,\n",
    "#         Human(): Human().speak,\n",
    "#         Car(): Car().horn\n",
    "#     }\n",
    "# )"
   ]
  },
  {
   "cell_type": "code",
   "execution_count": 11,
   "metadata": {},
   "outputs": [],
   "source": [
    "# Main_adptor.__dict__"
   ]
  },
  {
   "cell_type": "code",
   "execution_count": 12,
   "metadata": {},
   "outputs": [],
   "source": [
    "# Main_adptor.meow()"
   ]
  }
 ],
 "metadata": {
  "kernelspec": {
   "display_name": "Python 3",
   "language": "python",
   "name": "python3"
  },
  "language_info": {
   "codemirror_mode": {
    "name": "ipython",
    "version": 3
   },
   "file_extension": ".py",
   "mimetype": "text/x-python",
   "name": "python",
   "nbconvert_exporter": "python",
   "pygments_lexer": "ipython3",
   "version": "3.7.3"
  }
 },
 "nbformat": 4,
 "nbformat_minor": 2
}
