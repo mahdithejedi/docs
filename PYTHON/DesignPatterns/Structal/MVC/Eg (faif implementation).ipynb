{
 "cells": [
  {
   "cell_type": "markdown",
   "metadata": {},
   "source": [
    "## An Implementation for [faif MVC](https://github.com/faif/python-patterns/blob/master/patterns/structural/mvc.py)"
   ]
  },
  {
   "cell_type": "code",
   "execution_count": 1,
   "metadata": {},
   "outputs": [],
   "source": [
    "from abc import ABC, abstractmethod"
   ]
  },
  {
   "cell_type": "code",
   "execution_count": 2,
   "metadata": {},
   "outputs": [],
   "source": [
    "class Model(ABC):\n",
    "    @abstractmethod\n",
    "    def __iter__(self):\n",
    "        pass\n",
    "    \n",
    "    @abstractmethod\n",
    "    def get(self):\n",
    "        pass\n",
    "    \n",
    "    @property\n",
    "    @abstractmethod\n",
    "    def item_type(self):\n",
    "        pass"
   ]
  },
  {
   "cell_type": "code",
   "execution_count": 3,
   "metadata": {},
   "outputs": [],
   "source": [
    "class ProductModel(Model):\n",
    "    class Price(float):\n",
    "        def __str__(self):\n",
    "            return \"{:.2f}\".format(self)\n",
    "    \n",
    "    products = {\n",
    "        \"milk\": {\"price\": Price(1.50), \"quantity\": 10},\n",
    "        \"eggs\": {\"price\": Price(0.20), \"quantity\": 100},\n",
    "        \"cheese\": {\"price\": Price(2.00), \"quantity\": 10},\n",
    "    }\n",
    "    \n",
    "    item_type = \"product\"\n",
    "    \n",
    "    def __iter__(self):\n",
    "        for item in self.products:\n",
    "            yield item\n",
    "    \n",
    "    def get(self, prodcut):\n",
    "        return self.products.get(\n",
    "            prodcut, None\n",
    "        )"
   ]
  },
  {
   "cell_type": "code",
   "execution_count": 4,
   "metadata": {},
   "outputs": [],
   "source": [
    "class View(ABC):\n",
    "    @abstractmethod\n",
    "    def show_item_list(self, item_type, item_list):\n",
    "        pass"
   ]
  },
  {
   "cell_type": "code",
   "execution_count": 5,
   "metadata": {},
   "outputs": [],
   "source": [
    "class ConsoleView(View):\n",
    "    def show_item_list(self, item_type, item_list):\n",
    "        print(item_type.upper() + \" LIST:\")\n",
    "        for item in item_list:\n",
    "            print(item)\n",
    "        print(\"\")\n",
    "\n",
    "    @staticmethod\n",
    "    def capitalizer(string):\n",
    "        return string[0].upper() + string[1:].lower()\n",
    "\n",
    "    def show_item_information(self, item_type, item_name, item_info):\n",
    "        print(item_type.upper() + \" INFORMATION:\")\n",
    "        printout = \"Name: %s\" % item_name\n",
    "        for key, value in item_info.items():\n",
    "            printout += \", \" + self.capitalizer(str(key)) + \": \" + str(value)\n",
    "        printout += \"\\n\"\n",
    "        print(printout)\n",
    "\n",
    "    def item_not_found(self, item_type, item_name):\n",
    "        print('That {} \"{}\" does not exist in the records'.format(item_type, item_name))"
   ]
  },
  {
   "cell_type": "code",
   "execution_count": 6,
   "metadata": {},
   "outputs": [],
   "source": [
    "class Controller:\n",
    "    def __init__(self, model, view):\n",
    "        self.model = model\n",
    "        self.view = view\n",
    "        \n",
    "    def show_items(self):\n",
    "        items = list(self.model)\n",
    "        item_type = self.model.item_type\n",
    "        self.view.show_item_list(item_type, items)\n",
    "        \n",
    "    def show_item_information(self, item_name):\n",
    "        item_info = self.model.get(item_name)\n",
    "        if not item_info:\n",
    "            self.view.item_not_found(\n",
    "                self.model.item_type, item_name\n",
    "            )\n",
    "            return None\n",
    "        item_type = self.model.item_type\n",
    "        self.view.show_item_information(\n",
    "            item_type, item_name, item_info\n",
    "        )"
   ]
  },
  {
   "cell_type": "code",
   "execution_count": 7,
   "metadata": {},
   "outputs": [],
   "source": [
    "def main():\n",
    "    \"\"\"\n",
    "    >>> model = ProductModel()\n",
    "    >>> view = ConsoleView()\n",
    "    >>> controller = Controller(model, view)\n",
    "    >>> controller.show_items()\n",
    "    PRODUCT LIST:\n",
    "    milk\n",
    "    eggs\n",
    "    cheese\n",
    "    <BLANKLINE>\n",
    "    >>> controller.show_item_information(\"cheese\")\n",
    "    PRODUCT INFORMATION:\n",
    "    Name: cheese, Price: 2.00, Quantity: 10\n",
    "    <BLANKLINE>\n",
    "    >>> controller.show_item_information(\"eggs\")\n",
    "    PRODUCT INFORMATION:\n",
    "    Name: eggs, Price: 0.20, Quantity: 100\n",
    "    <BLANKLINE>\n",
    "    >>> controller.show_item_information(\"milk\")\n",
    "    PRODUCT INFORMATION:\n",
    "    Name: milk, Price: 1.50, Quantity: 10\n",
    "    <BLANKLINE>\n",
    "    >>> controller.show_item_information(\"arepas\")\n",
    "    That product \"arepas\" does not exist in the records\n",
    "    \"\"\""
   ]
  },
  {
   "cell_type": "code",
   "execution_count": 8,
   "metadata": {},
   "outputs": [],
   "source": [
    "if __name__ == \"__main__\":\n",
    "    import doctest\n",
    "\n",
    "    doctest.testmod()"
   ]
  },
  {
   "cell_type": "code",
   "execution_count": null,
   "metadata": {},
   "outputs": [],
   "source": []
  }
 ],
 "metadata": {
  "kernelspec": {
   "display_name": "Python 3",
   "language": "python",
   "name": "python3"
  },
  "language_info": {
   "codemirror_mode": {
    "name": "ipython",
    "version": 3
   },
   "file_extension": ".py",
   "mimetype": "text/x-python",
   "name": "python",
   "nbconvert_exporter": "python",
   "pygments_lexer": "ipython3",
   "version": "3.7.3"
  }
 },
 "nbformat": 4,
 "nbformat_minor": 2
}
