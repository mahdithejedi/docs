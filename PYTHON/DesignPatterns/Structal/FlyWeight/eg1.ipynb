{
 "cells": [
  {
   "cell_type": "code",
   "execution_count": 1,
   "metadata": {},
   "outputs": [],
   "source": [
    "import weakref"
   ]
  },
  {
   "cell_type": "code",
   "execution_count": 3,
   "metadata": {},
   "outputs": [],
   "source": [
    "class Card:\n",
    "    _pool = weakref.WeakValueDictionary()\n",
    "    \n",
    "    def __new__(cls, value, suit):\n",
    "        obj = cls._pool.get(key + value, None)\n",
    "        if obj is None:\n",
    "            obj = object.__new__(cls)\n",
    "            cls._pool[key+value] = obj\n",
    "            \n",
    "            obj.value, obj.suit = value, suit\n",
    "        return obj"
   ]
  },
  {
   "cell_type": "code",
   "execution_count": null,
   "metadata": {},
   "outputs": [],
   "source": []
  }
 ],
 "metadata": {
  "kernelspec": {
   "display_name": "Python 3",
   "language": "python",
   "name": "python3"
  },
  "language_info": {
   "codemirror_mode": {
    "name": "ipython",
    "version": 3
   },
   "file_extension": ".py",
   "mimetype": "text/x-python",
   "name": "python",
   "nbconvert_exporter": "python",
   "pygments_lexer": "ipython3",
   "version": "3.7.3"
  }
 },
 "nbformat": 4,
 "nbformat_minor": 2
}
