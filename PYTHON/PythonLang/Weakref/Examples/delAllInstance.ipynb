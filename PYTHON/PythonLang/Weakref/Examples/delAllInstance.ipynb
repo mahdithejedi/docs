{
 "cells": [
  {
   "cell_type": "code",
   "execution_count": 1,
   "metadata": {},
   "outputs": [],
   "source": [
    "import weakref"
   ]
  },
  {
   "cell_type": "code",
   "execution_count": 2,
   "metadata": {},
   "outputs": [],
   "source": [
    "class CleanUp:\n",
    "    def __init__(self, obj):\n",
    "        # find all refrence to obj\n",
    "        self._obj = obj\n",
    "        self._f = weakref.finalize(obj, self._clean_up)\n",
    "    def _clean_up(self):\n",
    "        for obj in self._obj:\n",
    "            del obj\n",
    "    def __del__(self):\n",
    "        self._f()"
   ]
  },
  {
   "cell_type": "code",
   "execution_count": null,
   "metadata": {},
   "outputs": [],
   "source": []
  }
 ],
 "metadata": {
  "kernelspec": {
   "display_name": "Python 3",
   "language": "python",
   "name": "python3"
  },
  "language_info": {
   "codemirror_mode": {
    "name": "ipython",
    "version": 3
   },
   "file_extension": ".py",
   "mimetype": "text/x-python",
   "name": "python",
   "nbconvert_exporter": "python",
   "pygments_lexer": "ipython3",
   "version": "3.7.3"
  }
 },
 "nbformat": 4,
 "nbformat_minor": 2
}
