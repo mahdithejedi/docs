{
 "cells": [
  {
   "cell_type": "code",
   "execution_count": 1,
   "metadata": {},
   "outputs": [],
   "source": [
    "import threading\n",
    "import time"
   ]
  },
  {
   "cell_type": "code",
   "execution_count": 2,
   "metadata": {},
   "outputs": [],
   "source": [
    "def wait_for_event(e):\n",
    "    print('WAIT for EVENT staring \\n')\n",
    "    event_is_set = e.wait()\n",
    "    print('EVENT wait_for_event set: %s \\n'% event_is_set)"
   ]
  },
  {
   "cell_type": "code",
   "execution_count": 6,
   "metadata": {},
   "outputs": [],
   "source": [
    "def wait_for_event_timeout(e, t):\n",
    "    while True: # not e.isSet():\n",
    "        time.sleep(1)\n",
    "        print('WAIT for event_timet starting \\n')\n",
    "        event_is_set = e.wait()\n",
    "        print('EVENT wait_for_event_timeout set: %s \\n'% event_is_set)\n",
    "        if event_is_set:\n",
    "            print('processing event \\n')\n",
    "        else:\n",
    "            print('doing another thing \\n')"
   ]
  },
  {
   "cell_type": "code",
   "execution_count": 7,
   "metadata": {},
   "outputs": [
    {
     "name": "stdout",
     "output_type": "stream",
     "text": [
      "WAIT for EVENT staring \n",
      "\n",
      "Waiting before calling Event.set() \n",
      "\n",
      "event is set \n",
      "\n",
      "EVENT wait_for_event set: True \n",
      "\n",
      "WAIT for event_timet starting \n",
      "\n",
      "EVENT wait_for_event_timeout set: True \n",
      "\n",
      "processing event \n",
      "\n",
      "WAIT for event_timet starting \n",
      "\n",
      "EVENT wait_for_event_timeout set: True \n",
      "\n",
      "processing event \n",
      "\n",
      "WAIT for event_timet starting \n",
      "\n",
      "EVENT wait_for_event_timeout set: True \n",
      "\n",
      "processing event \n",
      "\n",
      "WAIT for event_timet starting \n",
      "\n",
      "EVENT wait_for_event_timeout set: True \n",
      "\n",
      "processing event \n",
      "\n",
      "WAIT for event_timet starting \n",
      "\n",
      "EVENT wait_for_event_timeout set: True \n",
      "\n",
      "processing event \n",
      "\n",
      "WAIT for event_timet starting \n",
      "\n",
      "EVENT wait_for_event_timeout set: True \n",
      "\n",
      "processing event \n",
      "\n"
     ]
    }
   ],
   "source": [
    "if __name__ == '__main__':\n",
    "    e = threading.Event()\n",
    "    t1 = threading.Thread(\n",
    "        name = 'blocking',\n",
    "        target = wait_for_event,\n",
    "        args = (e, )\n",
    "    )\n",
    "    \n",
    "    t1.start()\n",
    "    \n",
    "    t2 = threading.Thread(name='non-blocking', \n",
    "                      target=wait_for_event_timeout, \n",
    "                      args=(e, 2))\n",
    "    t2.start()\n",
    "    \n",
    "    print('Waiting before calling Event.set() \\n')\n",
    "#      time.sleep(3)\n",
    "    e.set()\n",
    "    print('event is set \\n')"
   ]
  },
  {
   "cell_type": "code",
   "execution_count": 8,
   "metadata": {},
   "outputs": [
    {
     "name": "stdout",
     "output_type": "stream",
     "text": [
      "WAIT for event_timet starting \n",
      "\n",
      "EVENT wait_for_event_timeout set: True \n",
      "\n",
      "processing event \n",
      "\n",
      "WAIT for event_timet starting \n",
      "\n"
     ]
    }
   ],
   "source": [
    "e.clear()"
   ]
  },
  {
   "cell_type": "code",
   "execution_count": 9,
   "metadata": {},
   "outputs": [
    {
     "name": "stdout",
     "output_type": "stream",
     "text": [
      "EVENT wait_for_event_timeout set: True \n",
      "\n",
      "processing event \n",
      "\n",
      "WAIT for event_timet starting \n",
      "\n",
      "EVENT wait_for_event_timeout set: True \n",
      "\n",
      "processing event \n",
      "\n",
      "WAIT for event_timet starting \n",
      "\n",
      "EVENT wait_for_event_timeout set: True \n",
      "\n",
      "processing event \n",
      "\n",
      "WAIT for event_timet starting \n",
      "\n",
      "EVENT wait_for_event_timeout set: True \n",
      "\n",
      "processing event \n",
      "\n",
      "WAIT for event_timet starting \n",
      "\n",
      "EVENT wait_for_event_timeout set: True \n",
      "\n",
      "processing event \n",
      "\n",
      "WAIT for event_timet starting \n",
      "\n",
      "EVENT wait_for_event_timeout set: True \n",
      "\n",
      "processing event \n",
      "\n",
      "WAIT for event_timet starting \n",
      "\n",
      "EVENT wait_for_event_timeout set: True \n",
      "\n",
      "processing event \n",
      "\n"
     ]
    }
   ],
   "source": [
    "e.set()"
   ]
  },
  {
   "cell_type": "code",
   "execution_count": 10,
   "metadata": {},
   "outputs": [
    {
     "name": "stdout",
     "output_type": "stream",
     "text": [
      "WAIT for event_timet starting \n",
      "\n"
     ]
    }
   ],
   "source": [
    "e.clear()"
   ]
  },
  {
   "cell_type": "code",
   "execution_count": null,
   "metadata": {},
   "outputs": [],
   "source": []
  }
 ],
 "metadata": {
  "kernelspec": {
   "display_name": "Python 3",
   "language": "python",
   "name": "python3"
  },
  "language_info": {
   "codemirror_mode": {
    "name": "ipython",
    "version": 3
   },
   "file_extension": ".py",
   "mimetype": "text/x-python",
   "name": "python",
   "nbconvert_exporter": "python",
   "pygments_lexer": "ipython3",
   "version": "3.7.3"
  }
 },
 "nbformat": 4,
 "nbformat_minor": 2
}
