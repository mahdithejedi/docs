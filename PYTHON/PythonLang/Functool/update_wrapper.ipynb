{
 "cells": [
  {
   "cell_type": "markdown",
   "metadata": {},
   "source": [
    "we all know decorators"
   ]
  },
  {
   "cell_type": "code",
   "execution_count": 1,
   "metadata": {},
   "outputs": [],
   "source": [
    "def upper_case(fnc):\n",
    "        def wrapper(*args):\n",
    "            \"This funcion make any function upper_case\"\n",
    "            return fnc(*args).upper()\n",
    "        return wrapper"
   ]
  },
  {
   "cell_type": "code",
   "execution_count": 2,
   "metadata": {},
   "outputs": [],
   "source": [
    "@upper_case\n",
    "def joiner(*args):\n",
    "    \"This will join inpus\"\n",
    "    return ''.join(i for i in args)"
   ]
  },
  {
   "cell_type": "code",
   "execution_count": 3,
   "metadata": {},
   "outputs": [
    {
     "data": {
      "text/plain": [
       "'This funcion make any function upper_case'"
      ]
     },
     "execution_count": 3,
     "metadata": {},
     "output_type": "execute_result"
    }
   ],
   "source": [
    "joiner.__doc__"
   ]
  },
  {
   "cell_type": "code",
   "execution_count": 4,
   "metadata": {},
   "outputs": [
    {
     "data": {
      "text/plain": [
       "{}"
      ]
     },
     "execution_count": 4,
     "metadata": {},
     "output_type": "execute_result"
    }
   ],
   "source": [
    "joiner.__dict__"
   ]
  },
  {
   "cell_type": "markdown",
   "metadata": {},
   "source": [
    "what is we want to access joiner `__doc__` and `__dict__` when we call joiner?\n",
    "\n",
    "(<small>the default module what will be overwrite is \n",
    "`__module__`\n",
    ", \n",
    "`__name__`\n",
    ", \n",
    "`__qualname__`\n",
    ",\n",
    "` __annotations__ `\n",
    "and \n",
    "`__doc__`\n",
    ", the documentation string due to doc </small>)\n",
    "\n",
    "# what is update_Wrapper?\n",
    "\n",
    "**[Update a wrapper function to look like the wrapped function. The optional arguments are tuples to specify which attributes of the original function are assigned directly to the matching attributes on the wrapper function and which attributes of the wrapper function are updated with the corresponding attributes from the original function](https://docs.python.org/3/library/functools.html#functools.update_wrapper)**\n",
    "\n",
    "how? let's see.."
   ]
  },
  {
   "cell_type": "code",
   "execution_count": 5,
   "metadata": {},
   "outputs": [],
   "source": [
    "from functools import update_wrapper"
   ]
  },
  {
   "cell_type": "code",
   "execution_count": 6,
   "metadata": {},
   "outputs": [],
   "source": [
    "def upper_case(fnc):\n",
    "        def wrapper(*args):\n",
    "            \"This funcion make any function upper_case\"\n",
    "            return fnc(*args).upper()\n",
    "        update_wrapper(wrapper, fnc)\n",
    "        return wrapper"
   ]
  },
  {
   "cell_type": "code",
   "execution_count": 7,
   "metadata": {},
   "outputs": [],
   "source": [
    "@upper_case\n",
    "def joiner(*args):\n",
    "    \"This will join inpus\"\n",
    "    return ''.join(i for i in args)"
   ]
  },
  {
   "cell_type": "code",
   "execution_count": 8,
   "metadata": {},
   "outputs": [
    {
     "data": {
      "text/plain": [
       "'This will join inpus'"
      ]
     },
     "execution_count": 8,
     "metadata": {},
     "output_type": "execute_result"
    }
   ],
   "source": [
    "joiner.__doc__"
   ]
  },
  {
   "cell_type": "code",
   "execution_count": 9,
   "metadata": {},
   "outputs": [
    {
     "data": {
      "text/plain": [
       "{'__wrapped__': <function __main__.joiner>}"
      ]
     },
     "execution_count": 9,
     "metadata": {},
     "output_type": "execute_result"
    }
   ],
   "source": [
    "joiner.__dict__\n",
    "# as you can see here we have new '__wrapped__' attr in out __dict__"
   ]
  }
 ],
 "metadata": {
  "kernelspec": {
   "display_name": "Python 3",
   "language": "python",
   "name": "python3"
  },
  "language_info": {
   "codemirror_mode": {
    "name": "ipython",
    "version": 3
   },
   "file_extension": ".py",
   "mimetype": "text/x-python",
   "name": "python",
   "nbconvert_exporter": "python",
   "pygments_lexer": "ipython3",
   "version": "3.7.3"
  }
 },
 "nbformat": 4,
 "nbformat_minor": 2
}
