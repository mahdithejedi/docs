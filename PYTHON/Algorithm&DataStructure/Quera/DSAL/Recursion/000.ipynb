{
 "cells": [
  {
   "cell_type": "code",
   "execution_count": 7,
   "id": "a0499924",
   "metadata": {},
   "outputs": [],
   "source": [
    "def _factorial(n):\n",
    "     \n",
    "    # single line to find factorial\n",
    "    return 1 if (n==1 or n==0) else n * _factorial(n - 1);"
   ]
  },
  {
   "cell_type": "code",
   "execution_count": 8,
   "id": "desirable-roots",
   "metadata": {},
   "outputs": [],
   "source": [
    "def _Combination(n, r):\n",
    "    return _factorial(n) / (\n",
    "        _factorial(n-r) * _factorial(r)\n",
    "    )"
   ]
  },
  {
   "cell_type": "code",
   "execution_count": 15,
   "id": "9187c1a2",
   "metadata": {},
   "outputs": [],
   "source": [
    "def _cal_possible_zeros(LEN):\n",
    "    return _Combination(LEN, 3) * (2**3)"
   ]
  },
  {
   "cell_type": "code",
   "execution_count": 16,
   "id": "1be2df86",
   "metadata": {},
   "outputs": [],
   "source": [
    "def zero3(LEN):\n",
    "    return (2**LEN) - _cal_possible_zeros(LEN)"
   ]
  },
  {
   "cell_type": "code",
   "execution_count": 17,
   "id": "cd46e4c6",
   "metadata": {},
   "outputs": [
    {
     "name": "stdout",
     "output_type": "stream",
     "text": [
      "10\n",
      "64.0\n"
     ]
    }
   ],
   "source": [
    "LEN_str = int(input())\n",
    "print(zero3(LEN_str))"
   ]
  },
  {
   "cell_type": "code",
   "execution_count": null,
   "id": "c71b2647",
   "metadata": {},
   "outputs": [],
   "source": []
  }
 ],
 "metadata": {
  "kernelspec": {
   "display_name": "Python 3 (ipykernel)",
   "language": "python",
   "name": "python3"
  },
  "language_info": {
   "codemirror_mode": {
    "name": "ipython",
    "version": 3
   },
   "file_extension": ".py",
   "mimetype": "text/x-python",
   "name": "python",
   "nbconvert_exporter": "python",
   "pygments_lexer": "ipython3",
   "version": "3.7.3"
  }
 },
 "nbformat": 4,
 "nbformat_minor": 5
}
