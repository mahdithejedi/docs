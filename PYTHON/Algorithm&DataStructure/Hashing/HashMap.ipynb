{
 "cells": [
  {
   "cell_type": "code",
   "execution_count": 7,
   "id": "b0a604bc",
   "metadata": {},
   "outputs": [],
   "source": [
    "class HashMap:\n",
    "    INITIAL_SIZE = 8\n",
    "    def __init__(self):\n",
    "        self._hash_array = [None]*self.INITIAL_SIZE\n",
    "        self._data_array = []\n",
    "        self._arr_data_position = 0\n",
    "    def get_size(self):\n",
    "        return len(self._array)\n",
    " \n",
    "    def _handle_collision(self, data):\n",
    "        pass\n",
    "\n",
    "    def insert(self,data, hash_func=hash):\n",
    "        if _check_hash_if_full():\n",
    "            # TODO what to do if hash if full!\n",
    "            return \n",
    "        _hash_data = hash(data)\n",
    "        hashed_position = _hash_data  / self.get_size()\n",
    "        \n",
    "        # check collision\n",
    "        if self._hash_array[hashed_position] not None:\n",
    "            if self._hash_array[hashed_position] == _hash_data:\n",
    "                # already exists!\n",
    "                return \n",
    "            return self._handle_collision(data)\n",
    "        self._data_array.append(data)\n",
    "        self._hash_array.insert(hashed_position, self._arr_data_position)\n",
    "        self._arr_data_position += 1\n",
    "    \n",
    "    def _check_hash_if_full(self):\n",
    "        return self._arr_data_position > (len(self._hash_array) * 3) // 2"
   ]
  }
 ],
 "metadata": {
  "kernelspec": {
   "display_name": "Python 3 (ipykernel)",
   "language": "python",
   "name": "python3"
  },
  "language_info": {
   "codemirror_mode": {
    "name": "ipython",
    "version": 3
   },
   "file_extension": ".py",
   "mimetype": "text/x-python",
   "name": "python",
   "nbconvert_exporter": "python",
   "pygments_lexer": "ipython3",
   "version": "3.8.0"
  }
 },
 "nbformat": 4,
 "nbformat_minor": 5
}
