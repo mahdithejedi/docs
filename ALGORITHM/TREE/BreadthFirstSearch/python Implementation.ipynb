{
 "cells": [
  {
   "cell_type": "markdown",
   "id": "institutional-antenna",
   "metadata": {},
   "source": [
    "First Simple Implementation"
   ]
  },
  {
   "cell_type": "code",
   "execution_count": 10,
   "id": "productive-formula",
   "metadata": {},
   "outputs": [],
   "source": [
    "from collections import deque"
   ]
  },
  {
   "cell_type": "code",
   "execution_count": 11,
   "id": "drawn-master",
   "metadata": {},
   "outputs": [],
   "source": [
    "def person_is_seller(person):\n",
    "    return 'seller' in person"
   ]
  },
  {
   "cell_type": "code",
   "execution_count": 12,
   "id": "foreign-explanation",
   "metadata": {},
   "outputs": [],
   "source": [
    "def breathSearchALgorithms(graph, first_ele_name):\n",
    "    queue_item = deque()\n",
    "    queue_item += graph[first_ele_name]\n",
    "    search = []\n",
    "    while queue_item:\n",
    "        person = queue_item.popleft()\n",
    "        if not person in search:\n",
    "            if person_is_seller(person):\n",
    "                return person\n",
    "            else:\n",
    "                queue_item += graph[person]\n",
    "                search.append(person)\n",
    "    return False"
   ]
  },
  {
   "cell_type": "code",
   "execution_count": 13,
   "id": "annoying-amount",
   "metadata": {},
   "outputs": [],
   "source": [
    "graph = {}"
   ]
  },
  {
   "cell_type": "code",
   "execution_count": 14,
   "id": "lovely-trainer",
   "metadata": {},
   "outputs": [],
   "source": [
    "graph[\"you\"] = [\"alice\", \"bob\", \"claire\"]\n",
    "graph[\"bob\"] = [\"anuj\", \"peggy\"]\n",
    "graph[\"alice\"] = [\"peggy\"]\n",
    "graph[\"claire\"] = [\"thom\", \"jonny\"]\n",
    "graph[\"anuj\"] = []\n",
    "graph[\"peggy\"] = ['mr.seller']\n",
    "graph[\"thom\"] = []\n",
    "graph[\"jonny\"] = []\n",
    "graph['mr.seller'] = []"
   ]
  },
  {
   "cell_type": "code",
   "execution_count": 15,
   "id": "missing-decline",
   "metadata": {},
   "outputs": [
    {
     "data": {
      "text/plain": [
       "'mr.seller'"
      ]
     },
     "execution_count": 15,
     "metadata": {},
     "output_type": "execute_result"
    }
   ],
   "source": [
    "breathSearchALgorithms(graph, 'you')"
   ]
  },
  {
   "cell_type": "code",
   "execution_count": 19,
   "id": "particular-inventory",
   "metadata": {},
   "outputs": [],
   "source": [
    "def shortestBreathSearchAlgorithm(graph, first_ele_name):\n",
    "    queu_item = deque()\n",
    "    queu_item += graph[first_ele_name]\n",
    "    search = []\n",
    "    while queu_item:\n",
    "        person = queu_item.popleft()\n",
    "        if not person in search:\n",
    "            print(person)\n",
    "            queu_item += graph[person]\n",
    "            search.append(person)\n"
   ]
  },
  {
   "cell_type": "code",
   "execution_count": 20,
   "id": "married-trick",
   "metadata": {},
   "outputs": [
    {
     "name": "stdout",
     "output_type": "stream",
     "text": [
      "alice\n",
      "bob\n",
      "claire\n",
      "peggy\n",
      "anuj\n",
      "thom\n",
      "jonny\n",
      "mr.seller\n"
     ]
    }
   ],
   "source": [
    "shortestBreathSearchAlgorithm(graph, 'you')"
   ]
  },
  {
   "cell_type": "code",
   "execution_count": null,
   "id": "featured-likelihood",
   "metadata": {},
   "outputs": [],
   "source": []
  }
 ],
 "metadata": {
  "kernelspec": {
   "display_name": "Python 3",
   "language": "python",
   "name": "python3"
  },
  "language_info": {
   "codemirror_mode": {
    "name": "ipython",
    "version": 3
   },
   "file_extension": ".py",
   "mimetype": "text/x-python",
   "name": "python",
   "nbconvert_exporter": "python",
   "pygments_lexer": "ipython3",
   "version": "3.7.3"
  }
 },
 "nbformat": 4,
 "nbformat_minor": 5
}
