{
 "cells": [
  {
   "cell_type": "markdown",
   "metadata": {},
   "source": [
    "# Producer-Consumer in python\n",
    "## resources\n",
    "[Producer-consumer problem in Python(agiliq)](https://www.agiliq.com/blog/2013/10/producer-consumer-problem-in-python/)\n",
    "<br />"
   ]
  },
  {
   "cell_type": "code",
   "execution_count": 1,
   "metadata": {},
   "outputs": [],
   "source": [
    "from threading import Thread,Condition, Lock, get_ident\n",
    "from random import randint,choice, random\n",
    "from time import sleep, time\n",
    "MAX_RAND_RANGE = 200\n",
    "max_adding = randint(70, MAX_RAND_RANGE)"
   ]
  },
  {
   "cell_type": "code",
   "execution_count": 2,
   "metadata": {},
   "outputs": [],
   "source": [
    "lock = Condition()\n",
    "queue = []\n",
    "randoms = {}"
   ]
  },
  {
   "cell_type": "code",
   "execution_count": 3,
   "metadata": {},
   "outputs": [],
   "source": [
    "def randoms_adder(randoms_dict, rand_num_tuple):\n",
    "    randoms_dict[rand_num_tuple[0]] = rand_num_tuple[1]"
   ]
  },
  {
   "cell_type": "code",
   "execution_count": 4,
   "metadata": {},
   "outputs": [],
   "source": [
    "class ProducerThread(Thread):\n",
    "    def run(self):\n",
    "        global queue\n",
    "        global randoms\n",
    "        for counter in range(20):\n",
    "            with lock:\n",
    "                tuple_adder = (\n",
    "                     randint(0, MAX_RAND_RANGE),\n",
    "                     randint(0, MAX_RAND_RANGE)\n",
    "                 )\n",
    "                print('adding tuple key%s,value%s' % tuple_adder)\n",
    "                print('queue id is %s' % id(queue))\n",
    "                queue.append(tuple_adder)\n",
    "                lock.notify()\n",
    "            sleep(1)"
   ]
  },
  {
   "cell_type": "code",
   "execution_count": 5,
   "metadata": {},
   "outputs": [],
   "source": [
    "class ConsumerThread(Thread):\n",
    "    def get_ident(self):\n",
    "        return get_ident()\n",
    "    def run(self):\n",
    "#         print('inside !')\n",
    "        global queue\n",
    "        global randoms\n",
    "        while True:\n",
    "            _t = time()\n",
    "            print('waiting for resource %s' % self.get_ident())\n",
    "            with lock:\n",
    "                print(\n",
    "                    'resource is given, wait_time%s, %s' % ((time()- _t), self.get_ident())\n",
    "                )\n",
    "                if not(queue):\n",
    "                    print('waiting %s' % self.get_ident())\n",
    "                    lock.wait()\n",
    "                try:\n",
    "                    _tuple = queue.pop(0)\n",
    "                except IndexError as i:\n",
    "                    print('Index error!%s' % self.get_ident())\n",
    "                    raise IndexError(i)\n",
    "                randoms_adder(randoms, _tuple)\n",
    "                print('%s, %s added' % _tuple)\n",
    "                print('queue id%s' % id(queue))\n",
    "        \n",
    "            sleep(1)"
   ]
  },
  {
   "cell_type": "code",
   "execution_count": 6,
   "metadata": {},
   "outputs": [],
   "source": [
    "queue = []\n",
    "lockLock = Lock()\n",
    "\n",
    "class ProducerThreadWithoutCondition(Thread):\n",
    "    def run(self):\n",
    "        nums = range(5) #Will create the list [0, 1, 2, 3, 4]\n",
    "        global queue\n",
    "        while True:\n",
    "            num = choice(nums) #Selects a random number from list [0, 1, 2, 3, 4]\n",
    "            lockLock.acquire()\n",
    "            queue.append(num)\n",
    "            print(\"Produced\", num)\n",
    "            lockLock.release()\n",
    "            sleep(random())\n",
    "\n",
    "\n",
    "class ConsumerThreadWithtoutCondition(Thread):\n",
    "    def run(self):\n",
    "        global queue\n",
    "        while True:\n",
    "            _t = time\n",
    "            print('waiting for resource, thread_name:%s' % self.get_ident())\n",
    "            lockLock.acquire()\n",
    "            if not queue:\n",
    "                print(\"Nothing in queue, but consumer will try to consume\" % self.get_ident())\n",
    "            num = queue.pop(0)\n",
    "            print (\"Consumed\", num)\n",
    "            lockLock.release()\n",
    "            sleep(random())"
   ]
  },
  {
   "cell_type": "code",
   "execution_count": 7,
   "metadata": {},
   "outputs": [],
   "source": [
    "queue = []\n",
    "MAX_NUM = 10\n",
    "condition = Condition()\n",
    "\n",
    "class ProducerThreadWithCondition(Thread):\n",
    "    def run(self):\n",
    "        nums = range(5)\n",
    "        global queue\n",
    "        while True:\n",
    "            condition.acquire()\n",
    "            if len(queue) == MAX_NUM:\n",
    "                print(\"Queue full, producer is waiting\")\n",
    "                condition.wait()\n",
    "                print(\"Space in queue, Consumer notified the producer\")\n",
    "            num = choice(nums)\n",
    "            queue.append(num)\n",
    "            print(\"Produced\", num)\n",
    "            condition.notify()\n",
    "            condition.release()\n",
    "            sleep(random())\n",
    "\n",
    "\n",
    "class ConsumerThreadWithCondition(Thread):\n",
    "    def run(self):\n",
    "        global queue\n",
    "        while True:\n",
    "            condition.acquire()\n",
    "            if not queue:\n",
    "                print(\"Nothing in queue, consumer is waiting\")\n",
    "                condition.notify()\n",
    "                condition.wait()\n",
    "                print(\"Producer added something to queue and notified the consumer\")\n",
    "            num = queue.pop(0)\n",
    "            print(\"Consumed\", num)\n",
    "#             condition.notify()\n",
    "            condition.release()\n",
    "            sleep(random())"
   ]
  },
  {
   "cell_type": "code",
   "execution_count": 8,
   "metadata": {},
   "outputs": [
    {
     "name": "stdout",
     "output_type": "stream",
     "text": [
      "waiting for resource 140241302165248\n",
      "resource is given, wait_time0.0002739429473876953, 140241302165248\n",
      "waiting 140241302165248\n"
     ]
    }
   ],
   "source": [
    "ConsumerThread().start()"
   ]
  },
  {
   "cell_type": "code",
   "execution_count": 9,
   "metadata": {},
   "outputs": [
    {
     "name": "stdout",
     "output_type": "stream",
     "text": [
      "waiting for resource 140240949868288\n",
      "resource is given, wait_time0.0002257823944091797, 140240949868288\n",
      "waiting 140240949868288\n"
     ]
    }
   ],
   "source": [
    "ConsumerThread().start()"
   ]
  },
  {
   "cell_type": "code",
   "execution_count": 10,
   "metadata": {},
   "outputs": [
    {
     "name": "stdout",
     "output_type": "stream",
     "text": [
      "adding tuple key4,value38\n",
      "queue id is 140241427417864\n",
      "4, 38 added\n",
      "queue id140241427417864\n",
      "adding tuple key76,value86\n",
      "queue id is 140241427417864\n",
      "76, 86 added\n",
      "queue id140241427417864\n",
      "waiting for resource 140241302165248\n",
      "resource is given, wait_time0.00019502639770507812, 140241302165248\n",
      "waiting 140241302165248\n",
      "adding tuple key5,value168\n",
      "queue id is 140241427417864\n",
      "5, 168 added\n",
      "queue id140241427417864\n",
      "waiting for resource 140240949868288\n",
      "resource is given, wait_time0.0016758441925048828, 140240949868288\n",
      "waiting 140240949868288\n",
      "adding tuple key179,value78waiting for resource 140241302165248\n",
      "queue id is 140241427417864\n",
      "\n",
      "resource is given, wait_time0.0028123855590820312, 140241302165248\n",
      "179, 78 added\n",
      "queue id140241427417864\n",
      "Index error!140240949868288\n"
     ]
    },
    {
     "name": "stderr",
     "output_type": "stream",
     "text": [
      "Exception in thread Thread-5:\n",
      "Traceback (most recent call last):\n",
      "  File \"<ipython-input-5-537b2b001ff5>\", line 19, in run\n",
      "    _tuple = queue.pop(0)\n",
      "IndexError: pop from empty list\n",
      "\n",
      "During handling of the above exception, another exception occurred:\n",
      "\n",
      "Traceback (most recent call last):\n",
      "  File \"/usr/lib/python3.7/threading.py\", line 917, in _bootstrap_inner\n",
      "    self.run()\n",
      "  File \"<ipython-input-5-537b2b001ff5>\", line 22, in run\n",
      "    raise IndexError(i)\n",
      "IndexError: pop from empty list\n",
      "\n"
     ]
    },
    {
     "name": "stdout",
     "output_type": "stream",
     "text": [
      "adding tuple key166,value173\n",
      "queue id is 140241427417864\n",
      "waiting for resource 140241302165248\n",
      "resource is given, wait_time4.7206878662109375e-05, 140241302165248\n",
      "166, 173 added\n",
      "queue id140241427417864\n",
      "adding tuple key135,value185\n",
      "queue id is 140241427417864\n",
      "waiting for resource 140241302165248\n",
      "resource is given, wait_time0.0002186298370361328, 140241302165248\n",
      "135, 185 added\n",
      "queue id140241427417864\n",
      "adding tuple key133,value8\n",
      "queue id is 140241427417864\n",
      "waiting for resource 140241302165248\n",
      "resource is given, wait_time0.00013399124145507812, 140241302165248\n",
      "133, 8 added\n",
      "queue id140241427417864\n",
      "adding tuple key85,value52\n",
      "queue id is 140241427417864\n",
      "waiting for resource 140241302165248\n",
      "resource is given, wait_time0.00017642974853515625, 140241302165248\n",
      "85, 52 added\n",
      "queue id140241427417864\n",
      "adding tuple key22,value4\n",
      "queue id is 140241427417864\n",
      "waiting for resource 140241302165248\n",
      "resource is given, wait_time0.0004487037658691406, 140241302165248\n",
      "22, 4 added\n",
      "queue id140241427417864\n",
      "adding tuple key162,value52\n",
      "queue id is 140241427417864\n",
      "waiting for resource 140241302165248\n",
      "resource is given, wait_time0.00011539459228515625, 140241302165248\n",
      "162, 52 added\n",
      "queue id140241427417864\n",
      "adding tuple key21,value23\n",
      "queue id is 140241427417864\n",
      "waiting for resource 140241302165248\n",
      "resource is given, wait_time0.00016641616821289062, 140241302165248\n",
      "21, 23 added\n",
      "queue id140241427417864\n",
      "adding tuple key93,value119\n",
      "queue id is 140241427417864\n",
      "waiting for resource 140241302165248\n",
      "resource is given, wait_time9.918212890625e-05, 140241302165248\n",
      "93, 119 added\n",
      "queue id140241427417864\n",
      "adding tuple key31,value176\n",
      "queue id is 140241427417864\n",
      "waiting for resource 140241302165248\n",
      "resource is given, wait_time0.00047326087951660156, 140241302165248\n",
      "31, 176 added\n",
      "queue id140241427417864\n",
      "adding tuple key22,value31\n",
      "queue id is 140241427417864\n",
      "waiting for resource 140241302165248\n",
      "resource is given, wait_time0.0001633167266845703, 140241302165248\n",
      "22, 31 added\n",
      "queue id140241427417864\n",
      "adding tuple key81,value178\n",
      "queue id is 140241427417864\n",
      "waiting for resource 140241302165248\n",
      "resource is given, wait_time0.00031256675720214844, 140241302165248\n",
      "81, 178 added\n",
      "queue id140241427417864\n",
      "adding tuple key91,value188\n",
      "queue id is 140241427417864\n",
      "waiting for resource 140241302165248\n",
      "resource is given, wait_time0.000156402587890625, 140241302165248\n",
      "91, 188 added\n",
      "queue id140241427417864\n",
      "adding tuple key167,value71\n",
      "queue id is 140241427417864\n",
      "waiting for resource 140241302165248\n",
      "resource is given, wait_time0.0001685619354248047, 140241302165248\n",
      "167, 71 added\n",
      "queue id140241427417864\n",
      "adding tuple key23,value71\n",
      "queue id is 140241427417864\n",
      "waiting for resource 140241302165248\n",
      "resource is given, wait_time0.00013208389282226562, 140241302165248\n",
      "23, 71 added\n",
      "queue id140241427417864\n",
      "adding tuple key164,value80\n",
      "queue id is 140241427417864\n",
      "waiting for resource 140241302165248\n",
      "resource is given, wait_time0.00012612342834472656, 140241302165248\n",
      "164, 80 added\n",
      "queue id140241427417864\n",
      "adding tuple key52,value181\n",
      "queue id is 140241427417864\n",
      "waiting for resource 140241302165248\n",
      "resource is given, wait_time0.00014734268188476562, 140241302165248\n",
      "52, 181 added\n",
      "queue id140241427417864\n",
      "waiting for resource 140241302165248\n",
      "resource is given, wait_time0.0002532005310058594, 140241302165248\n",
      "waiting 140241302165248\n"
     ]
    }
   ],
   "source": [
    "ProducerThread().start()"
   ]
  },
  {
   "cell_type": "code",
   "execution_count": 4,
   "metadata": {},
   "outputs": [
    {
     "name": "stdout",
     "output_type": "stream",
     "text": [
      "Produced 1\n",
      "Consumed 1\n",
      "Nothing in queue, consumer is waiting\n",
      "Nothing in queue, consumer is waiting\n",
      "Nothing in queue, consumer is waiting\n",
      "Nothing in queue, consumer is waiting\n",
      "Nothing in queue, consumer is waiting\n",
      "Produced 4\n",
      "Producer added something to queue and notified the consumer\n",
      "Consumed 4\n",
      "Producer added something to queue and notified the consumer\n"
     ]
    },
    {
     "name": "stderr",
     "output_type": "stream",
     "text": [
      "Exception in thread Thread-7:\n",
      "Traceback (most recent call last):\n",
      "  File \"/usr/lib/python3.7/threading.py\", line 917, in _bootstrap_inner\n",
      "    self.run()\n",
      "  File \"<ipython-input-3-4c5e4b4d9a6c>\", line 32, in run\n",
      "    num = queue.pop(0)\n",
      "IndexError: pop from empty list\n",
      "\n"
     ]
    }
   ],
   "source": [
    "ProducerThreadWithCondition().start()\n",
    "ConsumerThreadWithCondition().start()\n",
    "ConsumerThreadWithCondition().start()\n",
    "ConsumerThreadWithCondition().start()\n",
    "ConsumerThreadWithCondition().start()\n",
    "ConsumerThreadWithCondition().start()"
   ]
  },
  {
   "cell_type": "code",
   "execution_count": 6,
   "metadata": {},
   "outputs": [
    {
     "data": {
      "text/plain": [
       "[]"
      ]
     },
     "execution_count": 6,
     "metadata": {},
     "output_type": "execute_result"
    }
   ],
   "source": [
    "queue"
   ]
  },
  {
   "cell_type": "markdown",
   "metadata": {},
   "source": [
    "**as you can see in previous cells both producer and consumer wait for eatch other!! and queue is empty**"
   ]
  },
  {
   "cell_type": "code",
   "execution_count": 7,
   "metadata": {},
   "outputs": [
    {
     "name": "stdout",
     "output_type": "stream",
     "text": [
      "Produced 3\n",
      "Produced 3\n",
      "Produced 1\n",
      "Produced 0\n",
      "Produced 4\n",
      "Produced 0\n",
      "Produced 1\n",
      "Produced 2\n",
      "Produced 0\n",
      "Produced 0\n",
      "Queue full, producer is waiting\n",
      "Consumed 3\n",
      "Space in queue, Consumer notified the producer\n",
      "Produced 2\n",
      "Queue full, producer is waiting\n",
      "Producer added something to queue and notified the consumer\n",
      "Consumed 3\n",
      "Producer added something to queue and notified the consumer\n",
      "Consumed 1\n",
      "Producer added something to queue and notified the consumer\n",
      "Consumed 0\n",
      "Produced 1\n",
      "Space in queue, Consumer notified the producer\n",
      "Produced 3\n",
      "Produced 2\n",
      "Queue full, producer is waiting\n",
      "Consumed 4\n",
      "Consumed 0\n",
      "Consumed 1\n",
      "Space in queue, Consumer notified the producer\n",
      "Produced 1\n",
      "Produced 1\n",
      "Produced 1\n",
      "Queue full, producer is waiting\n",
      "Consumed 2\n",
      "Consumed 0\n",
      "Produced 0\n",
      "Consumed 0\n",
      "Consumed 2\n",
      "Space in queue, Consumer notified the producer\n",
      "Produced 2\n",
      "Produced 2\n",
      "Produced 1\n",
      "Queue full, producer is waiting\n",
      "Consumed 1\n",
      "Consumed 3\n",
      "Consumed 2\n",
      "Produced 1\n",
      "Consumed 1\n",
      "Space in queue, Consumer notified the producer\n",
      "Produced 4\n",
      "Produced 1\n",
      "Produced 1\n",
      "Queue full, producer is waiting\n",
      "Consumed 1\n",
      "Consumed 1\n",
      "Consumed 0\n",
      "Consumed 2\n",
      "Produced 2\n",
      "Space in queue, Consumer notified the producer\n",
      "Produced 4\n",
      "Produced 3\n",
      "Produced 2\n",
      "Queue full, producer is waiting\n",
      "Consumed 2\n",
      "Space in queue, Consumer notified the producer\n",
      "Produced 1\n",
      "Queue full, producer is waiting\n",
      "Queue full, producer is waiting\n",
      "Consumed 1\n",
      "Consumed 1\n",
      "Consumed 4\n",
      "Consumed 1\n",
      "Space in queue, Consumer notified the producer\n",
      "Produced 1\n",
      "Produced 3\n",
      "Produced 4\n",
      "Produced 4\n",
      "Queue full, producer is waiting\n",
      "Space in queue, Consumer notified the producer\n",
      "Produced 0\n",
      "Consumed 1\n",
      "Consumed 2\n",
      "Consumed 4\n",
      "Consumed 3\n",
      "Space in queue, Consumer notified the producer\n",
      "Produced 4\n",
      "Produced 3\n",
      "Produced 1\n",
      "Queue full, producer is waiting\n",
      "Queue full, producer is waiting\n",
      "Consumed 2\n",
      "Consumed 1\n",
      "Consumed 1\n",
      "Consumed 3\n",
      "Space in queue, Consumer notified the producer\n",
      "Produced 0\n",
      "Produced 0\n",
      "Produced 4\n",
      "Produced 4\n",
      "Queue full, producer is waiting\n",
      "Space in queue, Consumer notified the producer\n",
      "Produced 4\n",
      "Consumed 4\n",
      "Consumed 4\n",
      "Consumed 0\n",
      "Consumed 4\n",
      "Space in queue, Consumer notified the producer\n",
      "Produced 0\n",
      "Produced 3\n",
      "Produced 2\n",
      "Queue full, producer is waiting\n",
      "Queue full, producer is waiting\n",
      "Consumed 3\n",
      "Consumed 1\n",
      "Consumed 0\n",
      "Consumed 0\n",
      "Space in queue, Consumer notified the producer\n",
      "Produced 3\n",
      "Produced 2\n",
      "Produced 2\n",
      "Produced 0\n"
     ]
    }
   ],
   "source": [
    "ProducerThreadWithCondition().start()"
   ]
  },
  {
   "cell_type": "code",
   "execution_count": null,
   "metadata": {},
   "outputs": [],
   "source": [
    " "
   ]
  }
 ],
 "metadata": {
  "kernelspec": {
   "display_name": "Python 3",
   "language": "python",
   "name": "python3"
  },
  "language_info": {
   "codemirror_mode": {
    "name": "ipython",
    "version": 3
   },
   "file_extension": ".py",
   "mimetype": "text/x-python",
   "name": "python",
   "nbconvert_exporter": "python",
   "pygments_lexer": "ipython3",
   "version": "3.7.3"
  }
 },
 "nbformat": 4,
 "nbformat_minor": 1
}
