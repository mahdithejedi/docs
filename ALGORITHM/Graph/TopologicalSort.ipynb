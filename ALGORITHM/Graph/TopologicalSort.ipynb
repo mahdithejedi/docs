{
 "cells": [
  {
   "cell_type": "markdown",
   "id": "announced-missouri",
   "metadata": {},
   "source": [
    "# function base"
   ]
  },
  {
   "cell_type": "code",
   "execution_count": 88,
   "id": "missing-advisory",
   "metadata": {},
   "outputs": [],
   "source": [
    "DECLAIMER = ';'\n",
    "def _topological_sort(graph: dict, start: str, res: list):\n",
    "    start_node = graph[start]\n",
    "    res.append(start)\n",
    "    for edge in start_node:\n",
    "        print(edge)\n",
    "        _topological_sort(graph, edge, res)\n",
    "    res.append(DECLAIMER)\n",
    "    return res\n",
    "\n",
    "def _format_topological_result(result):\n",
    "    res = []\n",
    "    primery = []\n",
    "    for ele in result:\n",
    "        if ele == DECLAIMER:\n",
    "            if primery:\n",
    "                res.append(primery)\n",
    "            primery = []\n",
    "        else:\n",
    "            primery.append(ele)\n",
    "    return res\n",
    "\n",
    "def topological_sort(graph, start, res = []):\n",
    "    result = _topological_sort(graph, start, res)\n",
    "    return _format_topological_result(result)"
   ]
  },
  {
   "cell_type": "code",
   "execution_count": 89,
   "id": "therapeutic-pioneer",
   "metadata": {},
   "outputs": [],
   "source": [
    "graph = {}\n",
    "graph['shower'] = ['wake-up']\n",
    "graph['wake-up'] = []\n",
    "graph['brush-teeth'] = ['wake-up']\n",
    "graph['eat-brakfast'] = ['brush-teeth', 'shower']"
   ]
  },
  {
   "cell_type": "code",
   "execution_count": 90,
   "id": "popular-webcam",
   "metadata": {},
   "outputs": [
    {
     "name": "stdout",
     "output_type": "stream",
     "text": [
      "brush-teeth\n",
      "wake-up\n",
      "shower\n",
      "wake-up\n"
     ]
    },
    {
     "data": {
      "text/plain": [
       "[['eat-brakfast', 'brush-teeth', 'wake-up'], ['shower', 'wake-up']]"
      ]
     },
     "execution_count": 90,
     "metadata": {},
     "output_type": "execute_result"
    }
   ],
   "source": [
    "topological_sort(graph, 'eat-brakfast', [])"
   ]
  },
  {
   "cell_type": "code",
   "execution_count": 92,
   "id": "caroline-shelf",
   "metadata": {},
   "outputs": [],
   "source": [
    "wedding_graph = {}\n",
    "wedding_graph['get-dressed'] = ['eat-breakfast', 'shower', 'pack-lunch']\n",
    "wedding_graph['shower'] = ['exercise', 'brush-teeth']\n",
    "wedding_graph['exercise'] = ['wake-up']\n",
    "wedding_graph['wake-up'] = []\n",
    "wedding_graph['eat-breakfast'] = ['brush-teeth']\n",
    "wedding_graph['brush-teeth'] = ['wake-up']\n",
    "wedding_graph['pack-lunch'] = ['wake-up']"
   ]
  },
  {
   "cell_type": "code",
   "execution_count": 93,
   "id": "straight-globe",
   "metadata": {},
   "outputs": [
    {
     "name": "stdout",
     "output_type": "stream",
     "text": [
      "eat-breakfast\n",
      "brush-teeth\n",
      "wake-up\n",
      "shower\n",
      "exercise\n",
      "wake-up\n",
      "brush-teeth\n",
      "wake-up\n",
      "pack-lunch\n",
      "wake-up\n"
     ]
    },
    {
     "data": {
      "text/plain": [
       "[['get-dressed', 'eat-breakfast', 'brush-teeth', 'wake-up'],\n",
       " ['shower', 'exercise', 'wake-up'],\n",
       " ['brush-teeth', 'wake-up'],\n",
       " ['pack-lunch', 'wake-up']]"
      ]
     },
     "execution_count": 93,
     "metadata": {},
     "output_type": "execute_result"
    }
   ],
   "source": [
    "topological_sort(wedding_graph, 'get-dressed')"
   ]
  },
  {
   "cell_type": "markdown",
   "id": "czech-yellow",
   "metadata": {},
   "source": [
    "# class base"
   ]
  },
  {
   "cell_type": "code",
   "execution_count": null,
   "id": "literary-looking",
   "metadata": {},
   "outputs": [],
   "source": []
  }
 ],
 "metadata": {
  "kernelspec": {
   "display_name": "Python 3",
   "language": "python",
   "name": "python3"
  },
  "language_info": {
   "codemirror_mode": {
    "name": "ipython",
    "version": 3
   },
   "file_extension": ".py",
   "mimetype": "text/x-python",
   "name": "python",
   "nbconvert_exporter": "python",
   "pygments_lexer": "ipython3",
   "version": "3.7.3"
  }
 },
 "nbformat": 4,
 "nbformat_minor": 5
}
