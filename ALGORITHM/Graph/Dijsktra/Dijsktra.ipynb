{
 "cells": [
  {
   "cell_type": "code",
   "execution_count": 2,
   "id": "heated-realtor",
   "metadata": {},
   "outputs": [],
   "source": [
    "def find_lowest_cost_node(costs, processed):\n",
    "    lowest_cost = float('inf')\n",
    "    lowest_cost_node = None\n",
    "    for node in costs:\n",
    "        cost = costs[node]\n",
    "        if cost < lowest_cost and node not in processed:\n",
    "            lowest_cost = cost\n",
    "            lowest_cost_node = node\n",
    "    return lowest_cost_node"
   ]
  },
  {
   "cell_type": "code",
   "execution_count": 3,
   "id": "christian-deputy",
   "metadata": {},
   "outputs": [],
   "source": [
    "def dijstra(graph, costs):\n",
    "    node = find_lowest_cost_node(costs)\n",
    "    while node:\n",
    "        cost = costs[node]\n",
    "        neighbots = graph[node]\n",
    "        for n in neighbots.keys():\n",
    "            new_cost = cost + neighbots[n]\n",
    "            if new_cost < costs[n]:\n",
    "                costs[n] = new_cost\n",
    "                parents[n] = node\n",
    "        processed.append(node)\n",
    "        node = find_lowest_cost_node(costs)"
   ]
  },
  {
   "cell_type": "code",
   "execution_count": 19,
   "id": "emerging-confidentiality",
   "metadata": {},
   "outputs": [],
   "source": [
    "class Dijskra:\n",
    "    def __init__(self, graph):\n",
    "        self._graph = graph\n",
    "        self._parents = {}\n",
    "        self._costs = {name:float('inf') for name in graph.keys()}\n",
    "        self._precessed = []\n",
    "    \n",
    "    def _find_shortest(self):\n",
    "        lowest_cost = float('inf')\n",
    "        lowest_cost_node = None\n",
    "        for node in self._costs:\n",
    "            cost = self._costs[node]\n",
    "            if cost < lowest_cost and node not in self._precessed:\n",
    "                lowest_cost = cost\n",
    "                lowest_cost_node = node\n",
    "        return lowest_cost_node\n",
    "    \n",
    "    def calculate(self, start_node, end_node):\n",
    "        self._set_start_node(start_node)\n",
    "        node = self._find_shortest()\n",
    "        while node:\n",
    "            cost = self._costs[node]\n",
    "            neighbors = self._graph[node]\n",
    "            for n in neighbors.keys():\n",
    "                new_cost = cost + neighbors[n]\n",
    "                if new_cost < self._costs[n]:\n",
    "                    self._costs[n] = new_cost\n",
    "                    self._parents[n] = node\n",
    "            self._precessed.append(node)\n",
    "            node = self._find_shortest()\n",
    "        return self._show_path(end_node)\n",
    "    def _set_start_node(self, start_node):\n",
    "        neighbors = self._graph[start_node]\n",
    "        for node in neighbors.keys():\n",
    "            self._costs[node] = neighbors[node]\n",
    "    def _show_path(self, end_node):\n",
    "        return self._parents"
   ]
  },
  {
   "cell_type": "code",
   "execution_count": 20,
   "id": "entertaining-quality",
   "metadata": {},
   "outputs": [],
   "source": [
    "graph_test = {\n",
    "    'start': {\n",
    "        'A': 6,\n",
    "        'B': 2\n",
    "    },\n",
    "    'A':{\n",
    "        'End':1,\n",
    "    },\n",
    "    'B':{\n",
    "        'A': 3,\n",
    "        'End': 5\n",
    "    },\n",
    "    'End':{}\n",
    "}"
   ]
  },
  {
   "cell_type": "code",
   "execution_count": 21,
   "id": "agricultural-accreditation",
   "metadata": {},
   "outputs": [
    {
     "data": {
      "text/plain": [
       "{'A': 'B', 'End': 'A'}"
      ]
     },
     "execution_count": 21,
     "metadata": {},
     "output_type": "execute_result"
    }
   ],
   "source": [
    "Dijskra(graph_test).calculate('start', 'End')"
   ]
  },
  {
   "cell_type": "code",
   "execution_count": 17,
   "id": "superior-dialogue",
   "metadata": {},
   "outputs": [],
   "source": [
    "graph_test2 = {\n",
    "    'start': {\n",
    "        'A': 5,\n",
    "        'B': 2\n",
    "    },\n",
    "    'A': {\n",
    "        'C': 4,\n",
    "        'D': 2\n",
    "    },\n",
    "    'B': {\n",
    "        'A': 8,\n",
    "        'D': 7\n",
    "    },\n",
    "    'C':{\n",
    "        'End': 3,\n",
    "        'D': 6\n",
    "    },\n",
    "    'D': {\n",
    "        'End': 1\n",
    "    },\n",
    "    'End':{\n",
    "        \n",
    "    }\n",
    "}"
   ]
  },
  {
   "cell_type": "code",
   "execution_count": 18,
   "id": "fatty-wagner",
   "metadata": {},
   "outputs": [
    {
     "data": {
      "text/plain": [
       "{'B': 'start', 'D': 'A', 'C': 'A', 'End': 'D'}"
      ]
     },
     "execution_count": 18,
     "metadata": {},
     "output_type": "execute_result"
    }
   ],
   "source": [
    "Dijskra(graph_test2).calculate('start', 'End')"
   ]
  },
  {
   "cell_type": "code",
   "execution_count": null,
   "id": "blessed-boards",
   "metadata": {},
   "outputs": [],
   "source": []
  }
 ],
 "metadata": {
  "kernelspec": {
   "display_name": "Python 3",
   "language": "python",
   "name": "python3"
  },
  "language_info": {
   "codemirror_mode": {
    "name": "ipython",
    "version": 3
   },
   "file_extension": ".py",
   "mimetype": "text/x-python",
   "name": "python",
   "nbconvert_exporter": "python",
   "pygments_lexer": "ipython3",
   "version": "3.7.3"
  }
 },
 "nbformat": 4,
 "nbformat_minor": 5
}
