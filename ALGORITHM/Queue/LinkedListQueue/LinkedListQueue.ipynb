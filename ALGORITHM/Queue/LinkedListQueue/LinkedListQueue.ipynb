{
 "cells": [
  {
   "cell_type": "code",
   "execution_count": 4,
   "id": "556de32b",
   "metadata": {},
   "outputs": [],
   "source": [
    "from queue import Empty"
   ]
  },
  {
   "cell_type": "code",
   "execution_count": 3,
   "id": "0412e7f5",
   "metadata": {},
   "outputs": [],
   "source": [
    "class Node:\n",
    "    __slots__ = ('_data', 'pre', 'next')\n",
    "    def __init__(self, data):\n",
    "        self._data = data\n",
    "        self.pre = None\n",
    "        self.next = None\n",
    "\n",
    "    def get_data(self):\n",
    "        self.pre = None\n",
    "        self.next = None\n",
    "        return self._data"
   ]
  },
  {
   "cell_type": "code",
   "execution_count": 55,
   "id": "00c9013f",
   "metadata": {},
   "outputs": [],
   "source": [
    "class Queue:\n",
    "    def __init__(self, raise_error=False):\n",
    "        self._raise_error = raise_error\n",
    "        self._head_node = None\n",
    "        self._last_node = None\n",
    "        self._size = 0\n",
    "    \n",
    "    def empty(self):\n",
    "        if not self._size:\n",
    "            return True\n",
    "        if self._head_node == self._last_node == None:\n",
    "            return True\n",
    "    \n",
    "    def qsize(self):\n",
    "        return self._size\n",
    "    \n",
    "    def put(self, data):\n",
    "        node = Node(data)\n",
    "        self.__set_head(node)\n",
    "        self.__inc_queue_size()\n",
    "\n",
    "    def __set_head(self, node):\n",
    "        if self.empty():\n",
    "            self._head_node = self._last_node = node\n",
    "            return\n",
    "\n",
    "        self._head_node.pre = node\n",
    "        node.next = self._head_node\n",
    "        self._head_node = node\n",
    "\n",
    "    def __inc_queue_size(self):\n",
    "        self._size += 1\n",
    "\n",
    "    def get(self):\n",
    "        if self.empty():\n",
    "            self.__raise_empty_error()\n",
    "            return\n",
    "\n",
    "        node = self._last_node\n",
    "        if self.__is_last():\n",
    "            self._head_node = self._last_node = None\n",
    "            return node.get_data()\n",
    "        self.__set_tail()\n",
    "        self.__dec_queue_size()\n",
    "        return node.get_data()\n",
    "\n",
    "    def __is_last(self):\n",
    "        return self._head_node == self._last_node\n",
    "    \n",
    "    def __raise_empty_error(self):\n",
    "        if self._raise_error:\n",
    "            raise Empty('Queue %s is empty' % self.__class__)\n",
    "    \n",
    "    def __set_tail(self):\n",
    "        self._last_node = self._last_node.pre\n",
    "        self._last_node.next = None\n",
    "    \n",
    "    def __dec_queue_size(self):\n",
    "        if not self.empty():\n",
    "            self._size -= 1"
   ]
  },
  {
   "cell_type": "code",
   "execution_count": 56,
   "id": "b2105777",
   "metadata": {},
   "outputs": [],
   "source": [
    "q = Queue(True)\n",
    "q.put(2)\n",
    "q.put(20)\n",
    "q.put(200)"
   ]
  },
  {
   "cell_type": "code",
   "execution_count": 57,
   "id": "7dda9aa2",
   "metadata": {},
   "outputs": [
    {
     "data": {
      "text/plain": [
       "3"
      ]
     },
     "execution_count": 57,
     "metadata": {},
     "output_type": "execute_result"
    }
   ],
   "source": [
    "q._size"
   ]
  },
  {
   "cell_type": "code",
   "execution_count": 58,
   "id": "292ebfb2",
   "metadata": {},
   "outputs": [
    {
     "data": {
      "text/plain": [
       "2"
      ]
     },
     "execution_count": 58,
     "metadata": {},
     "output_type": "execute_result"
    }
   ],
   "source": [
    "q.get()"
   ]
  },
  {
   "cell_type": "code",
   "execution_count": 59,
   "id": "d09ec852",
   "metadata": {},
   "outputs": [
    {
     "data": {
      "text/plain": [
       "20"
      ]
     },
     "execution_count": 59,
     "metadata": {},
     "output_type": "execute_result"
    }
   ],
   "source": [
    "q.get()"
   ]
  },
  {
   "cell_type": "code",
   "execution_count": 60,
   "id": "bd2d0410",
   "metadata": {},
   "outputs": [],
   "source": [
    "q.put(300)"
   ]
  },
  {
   "cell_type": "code",
   "execution_count": 61,
   "id": "4d189133",
   "metadata": {},
   "outputs": [
    {
     "data": {
      "text/plain": [
       "200"
      ]
     },
     "execution_count": 61,
     "metadata": {},
     "output_type": "execute_result"
    }
   ],
   "source": [
    "q.get()"
   ]
  },
  {
   "cell_type": "code",
   "execution_count": 62,
   "id": "4be80427",
   "metadata": {},
   "outputs": [
    {
     "data": {
      "text/plain": [
       "1"
      ]
     },
     "execution_count": 62,
     "metadata": {},
     "output_type": "execute_result"
    }
   ],
   "source": [
    "q.qsize()"
   ]
  },
  {
   "cell_type": "code",
   "execution_count": 52,
   "id": "687386d8",
   "metadata": {},
   "outputs": [
    {
     "data": {
      "text/plain": [
       "300"
      ]
     },
     "execution_count": 52,
     "metadata": {},
     "output_type": "execute_result"
    }
   ],
   "source": [
    "q.get()"
   ]
  },
  {
   "cell_type": "code",
   "execution_count": null,
   "id": "6691bac9",
   "metadata": {},
   "outputs": [],
   "source": []
  }
 ],
 "metadata": {
  "kernelspec": {
   "display_name": "Python 3",
   "language": "python",
   "name": "python3"
  },
  "language_info": {
   "codemirror_mode": {
    "name": "ipython",
    "version": 3
   },
   "file_extension": ".py",
   "mimetype": "text/x-python",
   "name": "python",
   "nbconvert_exporter": "python",
   "pygments_lexer": "ipython3",
   "version": "3.7.3"
  }
 },
 "nbformat": 4,
 "nbformat_minor": 5
}
