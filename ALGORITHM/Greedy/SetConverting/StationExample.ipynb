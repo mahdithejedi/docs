{
 "cells": [
  {
   "cell_type": "code",
   "execution_count": 1,
   "id": "incorporated-casting",
   "metadata": {},
   "outputs": [],
   "source": [
    "states_needed = set(['mt', 'wa', 'or', 'id', 'nv', 'ut', 'ca', 'az'])"
   ]
  },
  {
   "cell_type": "code",
   "execution_count": 3,
   "id": "meaningful-england",
   "metadata": {},
   "outputs": [],
   "source": [
    "station = {}\n",
    "station['kone'] = set(['id', 'nv', 'ut'])\n",
    "station['ktwo'] = set(['wa', 'id', 'mt'])\n",
    "station['kthree'] = set(['or', 'nv', 'ca'])\n",
    "station['kfour'] = set(['nv', 'ut'])\n",
    "station['kfive'] = set(['ca', 'az'])"
   ]
  },
  {
   "cell_type": "code",
   "execution_count": 8,
   "id": "applicable-crack",
   "metadata": {},
   "outputs": [
    {
     "data": {
      "text/plain": [
       "['kone', 'ktwo', 'kthree', 'kfour', 'kfive']"
      ]
     },
     "execution_count": 8,
     "metadata": {},
     "output_type": "execute_result"
    }
   ],
   "source": [
    "sorted(station, key= lambda k: len(station[k]), reverse=True)"
   ]
  },
  {
   "cell_type": "code",
   "execution_count": 7,
   "id": "religious-vertical",
   "metadata": {},
   "outputs": [],
   "source": [
    "def _get_first_station(station):\n",
    "    stations = sorted(statsion, key= lambda k: len(statsion[k]), reverse=True)\n",
    "    return stations[0]"
   ]
  },
  {
   "cell_type": "code",
   "execution_count": 9,
   "id": "unnecessary-mortality",
   "metadata": {},
   "outputs": [],
   "source": [
    "def station_example(statsions, state_needed):\n",
    "    statsion_checked = ()\n",
    "    _station = statsions[_get_first_station(statsions)]\n",
    "    statsion_checked.update(_station)\n",
    "    while not set.issuperset(state_needed, statsion_checked) or not state_needed == statsion_checked:\n",
    "        pass"
   ]
  },
  {
   "cell_type": "code",
   "execution_count": null,
   "id": "distributed-bedroom",
   "metadata": {},
   "outputs": [],
   "source": []
  }
 ],
 "metadata": {
  "kernelspec": {
   "display_name": "Python 3",
   "language": "python",
   "name": "python3"
  },
  "language_info": {
   "codemirror_mode": {
    "name": "ipython",
    "version": 3
   },
   "file_extension": ".py",
   "mimetype": "text/x-python",
   "name": "python",
   "nbconvert_exporter": "python",
   "pygments_lexer": "ipython3",
   "version": "3.7.3"
  }
 },
 "nbformat": 4,
 "nbformat_minor": 5
}
